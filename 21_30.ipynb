{
 "cells": [
  {
   "cell_type": "markdown",
   "id": "0488d885",
   "metadata": {},
   "source": [
    "## [21]: データを読み込んで把握"
   ]
  },
  {
   "cell_type": "code",
   "execution_count": 1,
   "id": "aaf720e9",
   "metadata": {},
   "outputs": [],
   "source": [
    "import pandas as pd"
   ]
  },
  {
   "cell_type": "code",
   "execution_count": 2,
   "id": "1e387fe6",
   "metadata": {},
   "outputs": [
    {
     "name": "stdout",
     "output_type": "stream",
     "text": [
      "197428\n"
     ]
    },
    {
     "data": {
      "application/vnd.microsoft.datawrangler.viewer.v0+json": {
       "columns": [
        {
         "name": "index",
         "rawType": "int64",
         "type": "integer"
        },
        {
         "name": "log_id",
         "rawType": "object",
         "type": "string"
        },
        {
         "name": "customer_id",
         "rawType": "object",
         "type": "string"
        },
        {
         "name": "usedate",
         "rawType": "object",
         "type": "string"
        }
       ],
       "conversionMethod": "pd.DataFrame",
       "ref": "e3a169d2-6396-4d7c-9fa9-130b5e20e971",
       "rows": [
        [
         "0",
         "L00000049012330",
         "AS009373",
         "2018-04-01"
        ],
        [
         "1",
         "L00000049012331",
         "AS015315",
         "2018-04-01"
        ],
        [
         "2",
         "L00000049012332",
         "AS040841",
         "2018-04-01"
        ],
        [
         "3",
         "L00000049012333",
         "AS046594",
         "2018-04-01"
        ],
        [
         "4",
         "L00000049012334",
         "AS073285",
         "2018-04-01"
        ]
       ],
       "shape": {
        "columns": 3,
        "rows": 5
       }
      },
      "text/html": [
       "<div>\n",
       "<style scoped>\n",
       "    .dataframe tbody tr th:only-of-type {\n",
       "        vertical-align: middle;\n",
       "    }\n",
       "\n",
       "    .dataframe tbody tr th {\n",
       "        vertical-align: top;\n",
       "    }\n",
       "\n",
       "    .dataframe thead th {\n",
       "        text-align: right;\n",
       "    }\n",
       "</style>\n",
       "<table border=\"1\" class=\"dataframe\">\n",
       "  <thead>\n",
       "    <tr style=\"text-align: right;\">\n",
       "      <th></th>\n",
       "      <th>log_id</th>\n",
       "      <th>customer_id</th>\n",
       "      <th>usedate</th>\n",
       "    </tr>\n",
       "  </thead>\n",
       "  <tbody>\n",
       "    <tr>\n",
       "      <th>0</th>\n",
       "      <td>L00000049012330</td>\n",
       "      <td>AS009373</td>\n",
       "      <td>2018-04-01</td>\n",
       "    </tr>\n",
       "    <tr>\n",
       "      <th>1</th>\n",
       "      <td>L00000049012331</td>\n",
       "      <td>AS015315</td>\n",
       "      <td>2018-04-01</td>\n",
       "    </tr>\n",
       "    <tr>\n",
       "      <th>2</th>\n",
       "      <td>L00000049012332</td>\n",
       "      <td>AS040841</td>\n",
       "      <td>2018-04-01</td>\n",
       "    </tr>\n",
       "    <tr>\n",
       "      <th>3</th>\n",
       "      <td>L00000049012333</td>\n",
       "      <td>AS046594</td>\n",
       "      <td>2018-04-01</td>\n",
       "    </tr>\n",
       "    <tr>\n",
       "      <th>4</th>\n",
       "      <td>L00000049012334</td>\n",
       "      <td>AS073285</td>\n",
       "      <td>2018-04-01</td>\n",
       "    </tr>\n",
       "  </tbody>\n",
       "</table>\n",
       "</div>"
      ],
      "text/plain": [
       "            log_id customer_id     usedate\n",
       "0  L00000049012330    AS009373  2018-04-01\n",
       "1  L00000049012331    AS015315  2018-04-01\n",
       "2  L00000049012332    AS040841  2018-04-01\n",
       "3  L00000049012333    AS046594  2018-04-01\n",
       "4  L00000049012334    AS073285  2018-04-01"
      ]
     },
     "execution_count": 2,
     "metadata": {},
     "output_type": "execute_result"
    }
   ],
   "source": [
    "uselog = pd.read_csv(\"use_log.csv\") # ジムの利用履歴データ、2018年4月～2019年3月\n",
    "print(len(uselog))\n",
    "uselog.head()"
   ]
  },
  {
   "cell_type": "code",
   "execution_count": 3,
   "id": "4adc4e3d",
   "metadata": {},
   "outputs": [
    {
     "name": "stdout",
     "output_type": "stream",
     "text": [
      "4192\n"
     ]
    },
    {
     "data": {
      "application/vnd.microsoft.datawrangler.viewer.v0+json": {
       "columns": [
        {
         "name": "index",
         "rawType": "int64",
         "type": "integer"
        },
        {
         "name": "customer_id",
         "rawType": "object",
         "type": "string"
        },
        {
         "name": "name",
         "rawType": "object",
         "type": "string"
        },
        {
         "name": "class",
         "rawType": "object",
         "type": "string"
        },
        {
         "name": "gender",
         "rawType": "object",
         "type": "string"
        },
        {
         "name": "start_date",
         "rawType": "object",
         "type": "string"
        },
        {
         "name": "end_date",
         "rawType": "object",
         "type": "unknown"
        },
        {
         "name": "campaign_id",
         "rawType": "object",
         "type": "string"
        },
        {
         "name": "is_deleted",
         "rawType": "int64",
         "type": "integer"
        }
       ],
       "conversionMethod": "pd.DataFrame",
       "ref": "41a63f65-613c-482f-9b98-407ee4cea64e",
       "rows": [
        [
         "0",
         "OA832399",
         "XXXX",
         "C01",
         "F",
         "2015-05-01 00:00:00",
         null,
         "CA1",
         "0"
        ],
        [
         "1",
         "PL270116",
         "XXXXX",
         "C01",
         "M",
         "2015-05-01 00:00:00",
         null,
         "CA1",
         "0"
        ],
        [
         "2",
         "OA974876",
         "XXXXX",
         "C01",
         "M",
         "2015-05-01 00:00:00",
         null,
         "CA1",
         "0"
        ],
        [
         "3",
         "HD024127",
         "XXXXX",
         "C01",
         "F",
         "2015-05-01 00:00:00",
         null,
         "CA1",
         "0"
        ],
        [
         "4",
         "HD661448",
         "XXXXX",
         "C03",
         "F",
         "2015-05-01 00:00:00",
         null,
         "CA1",
         "0"
        ]
       ],
       "shape": {
        "columns": 8,
        "rows": 5
       }
      },
      "text/html": [
       "<div>\n",
       "<style scoped>\n",
       "    .dataframe tbody tr th:only-of-type {\n",
       "        vertical-align: middle;\n",
       "    }\n",
       "\n",
       "    .dataframe tbody tr th {\n",
       "        vertical-align: top;\n",
       "    }\n",
       "\n",
       "    .dataframe thead th {\n",
       "        text-align: right;\n",
       "    }\n",
       "</style>\n",
       "<table border=\"1\" class=\"dataframe\">\n",
       "  <thead>\n",
       "    <tr style=\"text-align: right;\">\n",
       "      <th></th>\n",
       "      <th>customer_id</th>\n",
       "      <th>name</th>\n",
       "      <th>class</th>\n",
       "      <th>gender</th>\n",
       "      <th>start_date</th>\n",
       "      <th>end_date</th>\n",
       "      <th>campaign_id</th>\n",
       "      <th>is_deleted</th>\n",
       "    </tr>\n",
       "  </thead>\n",
       "  <tbody>\n",
       "    <tr>\n",
       "      <th>0</th>\n",
       "      <td>OA832399</td>\n",
       "      <td>XXXX</td>\n",
       "      <td>C01</td>\n",
       "      <td>F</td>\n",
       "      <td>2015-05-01 00:00:00</td>\n",
       "      <td>NaN</td>\n",
       "      <td>CA1</td>\n",
       "      <td>0</td>\n",
       "    </tr>\n",
       "    <tr>\n",
       "      <th>1</th>\n",
       "      <td>PL270116</td>\n",
       "      <td>XXXXX</td>\n",
       "      <td>C01</td>\n",
       "      <td>M</td>\n",
       "      <td>2015-05-01 00:00:00</td>\n",
       "      <td>NaN</td>\n",
       "      <td>CA1</td>\n",
       "      <td>0</td>\n",
       "    </tr>\n",
       "    <tr>\n",
       "      <th>2</th>\n",
       "      <td>OA974876</td>\n",
       "      <td>XXXXX</td>\n",
       "      <td>C01</td>\n",
       "      <td>M</td>\n",
       "      <td>2015-05-01 00:00:00</td>\n",
       "      <td>NaN</td>\n",
       "      <td>CA1</td>\n",
       "      <td>0</td>\n",
       "    </tr>\n",
       "    <tr>\n",
       "      <th>3</th>\n",
       "      <td>HD024127</td>\n",
       "      <td>XXXXX</td>\n",
       "      <td>C01</td>\n",
       "      <td>F</td>\n",
       "      <td>2015-05-01 00:00:00</td>\n",
       "      <td>NaN</td>\n",
       "      <td>CA1</td>\n",
       "      <td>0</td>\n",
       "    </tr>\n",
       "    <tr>\n",
       "      <th>4</th>\n",
       "      <td>HD661448</td>\n",
       "      <td>XXXXX</td>\n",
       "      <td>C03</td>\n",
       "      <td>F</td>\n",
       "      <td>2015-05-01 00:00:00</td>\n",
       "      <td>NaN</td>\n",
       "      <td>CA1</td>\n",
       "      <td>0</td>\n",
       "    </tr>\n",
       "  </tbody>\n",
       "</table>\n",
       "</div>"
      ],
      "text/plain": [
       "  customer_id   name class gender           start_date end_date campaign_id  \\\n",
       "0    OA832399   XXXX   C01      F  2015-05-01 00:00:00      NaN         CA1   \n",
       "1    PL270116  XXXXX   C01      M  2015-05-01 00:00:00      NaN         CA1   \n",
       "2    OA974876  XXXXX   C01      M  2015-05-01 00:00:00      NaN         CA1   \n",
       "3    HD024127  XXXXX   C01      F  2015-05-01 00:00:00      NaN         CA1   \n",
       "4    HD661448  XXXXX   C03      F  2015-05-01 00:00:00      NaN         CA1   \n",
       "\n",
       "   is_deleted  \n",
       "0           0  \n",
       "1           0  \n",
       "2           0  \n",
       "3           0  \n",
       "4           0  "
      ]
     },
     "execution_count": 3,
     "metadata": {},
     "output_type": "execute_result"
    }
   ],
   "source": [
    "customer = pd.read_csv(\"customer_master.csv\") # 2019年3月末時点での会員データ\n",
    "print(len(customer))\n",
    "customer.head()"
   ]
  },
  {
   "cell_type": "code",
   "execution_count": 4,
   "id": "c674a168",
   "metadata": {},
   "outputs": [
    {
     "name": "stdout",
     "output_type": "stream",
     "text": [
      "3\n"
     ]
    },
    {
     "data": {
      "application/vnd.microsoft.datawrangler.viewer.v0+json": {
       "columns": [
        {
         "name": "index",
         "rawType": "int64",
         "type": "integer"
        },
        {
         "name": "class",
         "rawType": "object",
         "type": "string"
        },
        {
         "name": "class_name",
         "rawType": "object",
         "type": "string"
        },
        {
         "name": "price",
         "rawType": "int64",
         "type": "integer"
        }
       ],
       "conversionMethod": "pd.DataFrame",
       "ref": "fe11c211-a646-4cda-b972-9ca00b85401f",
       "rows": [
        [
         "0",
         "C01",
         "オールタイム",
         "10500"
        ],
        [
         "1",
         "C02",
         "デイタイム",
         "7500"
        ],
        [
         "2",
         "C03",
         "ナイト",
         "6000"
        ]
       ],
       "shape": {
        "columns": 3,
        "rows": 3
       }
      },
      "text/html": [
       "<div>\n",
       "<style scoped>\n",
       "    .dataframe tbody tr th:only-of-type {\n",
       "        vertical-align: middle;\n",
       "    }\n",
       "\n",
       "    .dataframe tbody tr th {\n",
       "        vertical-align: top;\n",
       "    }\n",
       "\n",
       "    .dataframe thead th {\n",
       "        text-align: right;\n",
       "    }\n",
       "</style>\n",
       "<table border=\"1\" class=\"dataframe\">\n",
       "  <thead>\n",
       "    <tr style=\"text-align: right;\">\n",
       "      <th></th>\n",
       "      <th>class</th>\n",
       "      <th>class_name</th>\n",
       "      <th>price</th>\n",
       "    </tr>\n",
       "  </thead>\n",
       "  <tbody>\n",
       "    <tr>\n",
       "      <th>0</th>\n",
       "      <td>C01</td>\n",
       "      <td>オールタイム</td>\n",
       "      <td>10500</td>\n",
       "    </tr>\n",
       "    <tr>\n",
       "      <th>1</th>\n",
       "      <td>C02</td>\n",
       "      <td>デイタイム</td>\n",
       "      <td>7500</td>\n",
       "    </tr>\n",
       "    <tr>\n",
       "      <th>2</th>\n",
       "      <td>C03</td>\n",
       "      <td>ナイト</td>\n",
       "      <td>6000</td>\n",
       "    </tr>\n",
       "  </tbody>\n",
       "</table>\n",
       "</div>"
      ],
      "text/plain": [
       "  class class_name  price\n",
       "0   C01     オールタイム  10500\n",
       "1   C02      デイタイム   7500\n",
       "2   C03        ナイト   6000"
      ]
     },
     "execution_count": 4,
     "metadata": {},
     "output_type": "execute_result"
    }
   ],
   "source": [
    "class_master = pd.read_csv(\"class_master.csv\") # 会員区分データ\n",
    "print(len(class_master))\n",
    "class_master.head()"
   ]
  },
  {
   "cell_type": "code",
   "execution_count": 5,
   "id": "f60cd01a",
   "metadata": {},
   "outputs": [
    {
     "name": "stdout",
     "output_type": "stream",
     "text": [
      "3\n"
     ]
    },
    {
     "data": {
      "application/vnd.microsoft.datawrangler.viewer.v0+json": {
       "columns": [
        {
         "name": "index",
         "rawType": "int64",
         "type": "integer"
        },
        {
         "name": "campaign_id",
         "rawType": "object",
         "type": "string"
        },
        {
         "name": "campaign_name",
         "rawType": "object",
         "type": "string"
        }
       ],
       "conversionMethod": "pd.DataFrame",
       "ref": "fa18f1e9-767b-4e01-9de8-77d49663420e",
       "rows": [
        [
         "0",
         "CA1",
         "通常"
        ],
        [
         "1",
         "CA2",
         "入会費半額"
        ],
        [
         "2",
         "CA3",
         "入会費無料"
        ]
       ],
       "shape": {
        "columns": 2,
        "rows": 3
       }
      },
      "text/html": [
       "<div>\n",
       "<style scoped>\n",
       "    .dataframe tbody tr th:only-of-type {\n",
       "        vertical-align: middle;\n",
       "    }\n",
       "\n",
       "    .dataframe tbody tr th {\n",
       "        vertical-align: top;\n",
       "    }\n",
       "\n",
       "    .dataframe thead th {\n",
       "        text-align: right;\n",
       "    }\n",
       "</style>\n",
       "<table border=\"1\" class=\"dataframe\">\n",
       "  <thead>\n",
       "    <tr style=\"text-align: right;\">\n",
       "      <th></th>\n",
       "      <th>campaign_id</th>\n",
       "      <th>campaign_name</th>\n",
       "    </tr>\n",
       "  </thead>\n",
       "  <tbody>\n",
       "    <tr>\n",
       "      <th>0</th>\n",
       "      <td>CA1</td>\n",
       "      <td>通常</td>\n",
       "    </tr>\n",
       "    <tr>\n",
       "      <th>1</th>\n",
       "      <td>CA2</td>\n",
       "      <td>入会費半額</td>\n",
       "    </tr>\n",
       "    <tr>\n",
       "      <th>2</th>\n",
       "      <td>CA3</td>\n",
       "      <td>入会費無料</td>\n",
       "    </tr>\n",
       "  </tbody>\n",
       "</table>\n",
       "</div>"
      ],
      "text/plain": [
       "  campaign_id campaign_name\n",
       "0         CA1            通常\n",
       "1         CA2         入会費半額\n",
       "2         CA3         入会費無料"
      ]
     },
     "execution_count": 5,
     "metadata": {},
     "output_type": "execute_result"
    }
   ],
   "source": [
    "campaign_master = pd.read_csv(\"campaign_master.csv\") # キャンペーン区分データ\n",
    "print(len(campaign_master))\n",
    "campaign_master.head()"
   ]
  },
  {
   "cell_type": "markdown",
   "id": "6e03714a",
   "metadata": {},
   "source": [
    "## [22]: 顧客データを整形"
   ]
  },
  {
   "cell_type": "code",
   "execution_count": 6,
   "id": "752bb507",
   "metadata": {},
   "outputs": [
    {
     "data": {
      "application/vnd.microsoft.datawrangler.viewer.v0+json": {
       "columns": [
        {
         "name": "index",
         "rawType": "int64",
         "type": "integer"
        },
        {
         "name": "customer_id",
         "rawType": "object",
         "type": "string"
        },
        {
         "name": "name",
         "rawType": "object",
         "type": "string"
        },
        {
         "name": "class",
         "rawType": "object",
         "type": "string"
        },
        {
         "name": "gender",
         "rawType": "object",
         "type": "string"
        },
        {
         "name": "start_date",
         "rawType": "object",
         "type": "string"
        },
        {
         "name": "end_date",
         "rawType": "object",
         "type": "unknown"
        },
        {
         "name": "campaign_id",
         "rawType": "object",
         "type": "string"
        },
        {
         "name": "is_deleted",
         "rawType": "int64",
         "type": "integer"
        },
        {
         "name": "class_name",
         "rawType": "object",
         "type": "string"
        },
        {
         "name": "price",
         "rawType": "int64",
         "type": "integer"
        },
        {
         "name": "campaign_name",
         "rawType": "object",
         "type": "string"
        }
       ],
       "conversionMethod": "pd.DataFrame",
       "ref": "c236dfa4-e726-42ee-8ee9-2b74e9ef58c5",
       "rows": [
        [
         "0",
         "OA832399",
         "XXXX",
         "C01",
         "F",
         "2015-05-01 00:00:00",
         null,
         "CA1",
         "0",
         "オールタイム",
         "10500",
         "通常"
        ],
        [
         "1",
         "PL270116",
         "XXXXX",
         "C01",
         "M",
         "2015-05-01 00:00:00",
         null,
         "CA1",
         "0",
         "オールタイム",
         "10500",
         "通常"
        ],
        [
         "2",
         "OA974876",
         "XXXXX",
         "C01",
         "M",
         "2015-05-01 00:00:00",
         null,
         "CA1",
         "0",
         "オールタイム",
         "10500",
         "通常"
        ],
        [
         "3",
         "HD024127",
         "XXXXX",
         "C01",
         "F",
         "2015-05-01 00:00:00",
         null,
         "CA1",
         "0",
         "オールタイム",
         "10500",
         "通常"
        ],
        [
         "4",
         "HD661448",
         "XXXXX",
         "C03",
         "F",
         "2015-05-01 00:00:00",
         null,
         "CA1",
         "0",
         "ナイト",
         "6000",
         "通常"
        ]
       ],
       "shape": {
        "columns": 11,
        "rows": 5
       }
      },
      "text/html": [
       "<div>\n",
       "<style scoped>\n",
       "    .dataframe tbody tr th:only-of-type {\n",
       "        vertical-align: middle;\n",
       "    }\n",
       "\n",
       "    .dataframe tbody tr th {\n",
       "        vertical-align: top;\n",
       "    }\n",
       "\n",
       "    .dataframe thead th {\n",
       "        text-align: right;\n",
       "    }\n",
       "</style>\n",
       "<table border=\"1\" class=\"dataframe\">\n",
       "  <thead>\n",
       "    <tr style=\"text-align: right;\">\n",
       "      <th></th>\n",
       "      <th>customer_id</th>\n",
       "      <th>name</th>\n",
       "      <th>class</th>\n",
       "      <th>gender</th>\n",
       "      <th>start_date</th>\n",
       "      <th>end_date</th>\n",
       "      <th>campaign_id</th>\n",
       "      <th>is_deleted</th>\n",
       "      <th>class_name</th>\n",
       "      <th>price</th>\n",
       "      <th>campaign_name</th>\n",
       "    </tr>\n",
       "  </thead>\n",
       "  <tbody>\n",
       "    <tr>\n",
       "      <th>0</th>\n",
       "      <td>OA832399</td>\n",
       "      <td>XXXX</td>\n",
       "      <td>C01</td>\n",
       "      <td>F</td>\n",
       "      <td>2015-05-01 00:00:00</td>\n",
       "      <td>NaN</td>\n",
       "      <td>CA1</td>\n",
       "      <td>0</td>\n",
       "      <td>オールタイム</td>\n",
       "      <td>10500</td>\n",
       "      <td>通常</td>\n",
       "    </tr>\n",
       "    <tr>\n",
       "      <th>1</th>\n",
       "      <td>PL270116</td>\n",
       "      <td>XXXXX</td>\n",
       "      <td>C01</td>\n",
       "      <td>M</td>\n",
       "      <td>2015-05-01 00:00:00</td>\n",
       "      <td>NaN</td>\n",
       "      <td>CA1</td>\n",
       "      <td>0</td>\n",
       "      <td>オールタイム</td>\n",
       "      <td>10500</td>\n",
       "      <td>通常</td>\n",
       "    </tr>\n",
       "    <tr>\n",
       "      <th>2</th>\n",
       "      <td>OA974876</td>\n",
       "      <td>XXXXX</td>\n",
       "      <td>C01</td>\n",
       "      <td>M</td>\n",
       "      <td>2015-05-01 00:00:00</td>\n",
       "      <td>NaN</td>\n",
       "      <td>CA1</td>\n",
       "      <td>0</td>\n",
       "      <td>オールタイム</td>\n",
       "      <td>10500</td>\n",
       "      <td>通常</td>\n",
       "    </tr>\n",
       "    <tr>\n",
       "      <th>3</th>\n",
       "      <td>HD024127</td>\n",
       "      <td>XXXXX</td>\n",
       "      <td>C01</td>\n",
       "      <td>F</td>\n",
       "      <td>2015-05-01 00:00:00</td>\n",
       "      <td>NaN</td>\n",
       "      <td>CA1</td>\n",
       "      <td>0</td>\n",
       "      <td>オールタイム</td>\n",
       "      <td>10500</td>\n",
       "      <td>通常</td>\n",
       "    </tr>\n",
       "    <tr>\n",
       "      <th>4</th>\n",
       "      <td>HD661448</td>\n",
       "      <td>XXXXX</td>\n",
       "      <td>C03</td>\n",
       "      <td>F</td>\n",
       "      <td>2015-05-01 00:00:00</td>\n",
       "      <td>NaN</td>\n",
       "      <td>CA1</td>\n",
       "      <td>0</td>\n",
       "      <td>ナイト</td>\n",
       "      <td>6000</td>\n",
       "      <td>通常</td>\n",
       "    </tr>\n",
       "  </tbody>\n",
       "</table>\n",
       "</div>"
      ],
      "text/plain": [
       "  customer_id   name class gender           start_date end_date campaign_id  \\\n",
       "0    OA832399   XXXX   C01      F  2015-05-01 00:00:00      NaN         CA1   \n",
       "1    PL270116  XXXXX   C01      M  2015-05-01 00:00:00      NaN         CA1   \n",
       "2    OA974876  XXXXX   C01      M  2015-05-01 00:00:00      NaN         CA1   \n",
       "3    HD024127  XXXXX   C01      F  2015-05-01 00:00:00      NaN         CA1   \n",
       "4    HD661448  XXXXX   C03      F  2015-05-01 00:00:00      NaN         CA1   \n",
       "\n",
       "   is_deleted class_name  price campaign_name  \n",
       "0           0     オールタイム  10500            通常  \n",
       "1           0     オールタイム  10500            通常  \n",
       "2           0     オールタイム  10500            通常  \n",
       "3           0     オールタイム  10500            通常  \n",
       "4           0        ナイト   6000            通常  "
      ]
     },
     "execution_count": 6,
     "metadata": {},
     "output_type": "execute_result"
    }
   ],
   "source": [
    "customer_join = pd.merge(customer, class_master, on = \"class\", how = \"left\") # 会員区分マスタと結合\n",
    "customer_join = pd.merge(customer_join, campaign_master, on = \"campaign_id\", how = \"left\") # キャンペーン区分マスタと結合\n",
    "customer_join.head()"
   ]
  },
  {
   "cell_type": "code",
   "execution_count": 7,
   "id": "2a4035b4",
   "metadata": {},
   "outputs": [
    {
     "name": "stdout",
     "output_type": "stream",
     "text": [
      "4192\n",
      "4192\n"
     ]
    }
   ],
   "source": [
    "print(len(customer))\n",
    "print(len(customer_join))"
   ]
  },
  {
   "cell_type": "code",
   "execution_count": 8,
   "id": "2bf5b3a1",
   "metadata": {},
   "outputs": [
    {
     "data": {
      "text/plain": [
       "customer_id         0\n",
       "name                0\n",
       "class               0\n",
       "gender              0\n",
       "start_date          0\n",
       "end_date         2842\n",
       "campaign_id         0\n",
       "is_deleted          0\n",
       "class_name          0\n",
       "price               0\n",
       "campaign_name       0\n",
       "dtype: int64"
      ]
     },
     "execution_count": 8,
     "metadata": {},
     "output_type": "execute_result"
    }
   ],
   "source": [
    "customer_join.isnull().sum() # 欠損値の確認"
   ]
  },
  {
   "cell_type": "markdown",
   "id": "31c475cb",
   "metadata": {},
   "source": [
    "## [23]: 顧客データの基礎集計"
   ]
  },
  {
   "cell_type": "code",
   "execution_count": 9,
   "id": "5933f065",
   "metadata": {},
   "outputs": [
    {
     "data": {
      "text/plain": [
       "class_name\n",
       "オールタイム    2045\n",
       "デイタイム     1019\n",
       "ナイト       1128\n",
       "Name: customer_id, dtype: int64"
      ]
     },
     "execution_count": 9,
     "metadata": {},
     "output_type": "execute_result"
    }
   ],
   "source": [
    "customer_join.groupby(\"class_name\").count()[\"customer_id\"] # 会員区分ごとの会員数を集計"
   ]
  },
  {
   "cell_type": "code",
   "execution_count": 10,
   "id": "d959a747",
   "metadata": {},
   "outputs": [
    {
     "data": {
      "text/plain": [
       "campaign_name\n",
       "入会費半額     650\n",
       "入会費無料     492\n",
       "通常       3050\n",
       "Name: customer_id, dtype: int64"
      ]
     },
     "execution_count": 10,
     "metadata": {},
     "output_type": "execute_result"
    }
   ],
   "source": [
    "customer_join.groupby(\"campaign_name\").count()[\"customer_id\"] # キャンペーン区分ごとの会員数を集計"
   ]
  },
  {
   "cell_type": "code",
   "execution_count": 11,
   "id": "9894b47d",
   "metadata": {},
   "outputs": [
    {
     "data": {
      "text/plain": [
       "gender\n",
       "F    1983\n",
       "M    2209\n",
       "Name: customer_id, dtype: int64"
      ]
     },
     "execution_count": 11,
     "metadata": {},
     "output_type": "execute_result"
    }
   ],
   "source": [
    "customer_join.groupby(\"gender\").count()[\"customer_id\"] # 性別ごとの会員数を集計"
   ]
  },
  {
   "cell_type": "code",
   "execution_count": 12,
   "id": "b89c1be0",
   "metadata": {},
   "outputs": [
    {
     "data": {
      "text/plain": [
       "is_deleted\n",
       "0    2842\n",
       "1    1350\n",
       "Name: customer_id, dtype: int64"
      ]
     },
     "execution_count": 12,
     "metadata": {},
     "output_type": "execute_result"
    }
   ],
   "source": [
    "customer_join.groupby(\"is_deleted\").count()[\"customer_id\"] # 退会ユーザー数を集計"
   ]
  },
  {
   "cell_type": "code",
   "execution_count": 13,
   "id": "b3b093fb",
   "metadata": {},
   "outputs": [
    {
     "name": "stdout",
     "output_type": "stream",
     "text": [
      "1361\n"
     ]
    }
   ],
   "source": [
    "customer_join[\"start_date\"] = pd.to_datetime(customer_join[\"start_date\"]) # 開始日をdatetime型に変換\n",
    "customer_start = customer_join.loc[customer_join[\"start_date\"] > pd.to_datetime(\"20180401\")] # 開始日が2018年4月1日以降の会員を抽出\n",
    "print(len(customer_start))"
   ]
  },
  {
   "cell_type": "markdown",
   "id": "97aa496f",
   "metadata": {},
   "source": [
    "## [24]: 最新顧客データの基礎集計"
   ]
  },
  {
   "cell_type": "code",
   "execution_count": 14,
   "id": "3656aedc",
   "metadata": {},
   "outputs": [
    {
     "name": "stdout",
     "output_type": "stream",
     "text": [
      "2953\n"
     ]
    },
    {
     "data": {
      "text/plain": [
       "<DatetimeArray>\n",
       "['NaT', '2019-03-31 00:00:00']\n",
       "Length: 2, dtype: datetime64[ns]"
      ]
     },
     "execution_count": 14,
     "metadata": {},
     "output_type": "execute_result"
    }
   ],
   "source": [
    "customer_join[\"end_date\"] = pd.to_datetime(customer_join[\"end_date\"]) # 終了日をdatetime型に変換\n",
    "customer_newer = customer_join.loc[(customer_join[\"end_date\"] >= pd.to_datetime(\"20190331\"))|(customer_join[\"end_date\"].isna())] # 終了日が2019年3月31日以降の会員を抽出\n",
    "print(len(customer_newer))\n",
    "customer_newer[\"end_date\"].unique() # 終了日がNaTの会員を抽出"
   ]
  },
  {
   "cell_type": "markdown",
   "id": "d1bda277",
   "metadata": {},
   "source": [
    "- ① customer_join[\"end_date\"] = pd.to_datetime(customer_join[\"end_date\"])\n",
    "  - customer_join というデータフレームの end_date 列（退会日など）を、文字列 → 日付型（datetime）に変換しています。\n",
    "  - これにより、後で日付の大小比較などができるようになります。\n",
    "<br><br>\n",
    "- ② customer_newer = customer_join.loc[(customer_join[\"end_date\"] >= pd.to_datetime(\"20190331\")) | (customer_join[\"end_date\"].isna())]\n",
    "  - この部分は、**2019年3月31日以降に退会した人、または退会していない人（end_date が欠損値）**を抽出しています。\n",
    "- customer_join[\"end_date\"] >= pd.to_datetime(\"20190331\")\n",
    "  - → 2019年3月31日 以降の退会日（＝比較的新しい退会者）\n",
    "- customer_join[\"end_date\"].isna()\n",
    "  - → end_date が NaN（= まだ退会していない顧客）\n",
    "- | は または（OR） という意味です。\n",
    "- つまり → 「最近まで在籍している、またはまだ辞めていない顧客」だけを抽出している。\n",
    "<br><br>\n",
    "- customer_newer[\"end_date\"].unique()\n",
    "  - 抽出されたデータの中で、end_date の**ユニークな値（重複なし一覧）**を表示しています。\n",
    "  - つまり、どんな退会日が含まれているのかを確認するための処理です。"
   ]
  },
  {
   "cell_type": "code",
   "execution_count": 15,
   "id": "ef2eec16",
   "metadata": {},
   "outputs": [
    {
     "data": {
      "text/plain": [
       "class_name\n",
       "オールタイム    1444\n",
       "デイタイム      696\n",
       "ナイト        813\n",
       "Name: customer_id, dtype: int64"
      ]
     },
     "execution_count": 15,
     "metadata": {},
     "output_type": "execute_result"
    }
   ],
   "source": [
    "customer_newer.groupby(\"class_name\").count()[\"customer_id\"] # 会員区分ごとの会員数を集計"
   ]
  },
  {
   "cell_type": "code",
   "execution_count": 16,
   "id": "32f9ac19",
   "metadata": {},
   "outputs": [
    {
     "data": {
      "text/plain": [
       "campaign_name\n",
       "入会費半額     311\n",
       "入会費無料     242\n",
       "通常       2400\n",
       "Name: customer_id, dtype: int64"
      ]
     },
     "execution_count": 16,
     "metadata": {},
     "output_type": "execute_result"
    }
   ],
   "source": [
    "customer_newer.groupby(\"campaign_name\").count()[\"customer_id\"] # キャンペーン区分ごとの会員数を集計"
   ]
  },
  {
   "cell_type": "code",
   "execution_count": 17,
   "id": "2c89ad63",
   "metadata": {},
   "outputs": [
    {
     "data": {
      "text/plain": [
       "gender\n",
       "F    1400\n",
       "M    1553\n",
       "Name: customer_id, dtype: int64"
      ]
     },
     "execution_count": 17,
     "metadata": {},
     "output_type": "execute_result"
    }
   ],
   "source": [
    "customer_newer.groupby(\"gender\").count()[\"customer_id\"] # 性別ごとの会員数を集計"
   ]
  },
  {
   "cell_type": "markdown",
   "id": "97084683",
   "metadata": {},
   "source": [
    "## [25]: 利用履歴データを集計"
   ]
  },
  {
   "cell_type": "code",
   "execution_count": 19,
   "id": "836df965",
   "metadata": {},
   "outputs": [
    {
     "data": {
      "application/vnd.microsoft.datawrangler.viewer.v0+json": {
       "columns": [
        {
         "name": "index",
         "rawType": "int64",
         "type": "integer"
        },
        {
         "name": "年月",
         "rawType": "object",
         "type": "string"
        },
        {
         "name": "customer_id",
         "rawType": "object",
         "type": "string"
        },
        {
         "name": "count",
         "rawType": "int64",
         "type": "integer"
        }
       ],
       "conversionMethod": "pd.DataFrame",
       "ref": "47ab9c6b-5ed8-431f-99e9-06ec6850e75f",
       "rows": [
        [
         "0",
         "201804",
         "AS002855",
         "4"
        ],
        [
         "1",
         "201804",
         "AS009013",
         "2"
        ],
        [
         "2",
         "201804",
         "AS009373",
         "3"
        ],
        [
         "3",
         "201804",
         "AS015315",
         "6"
        ],
        [
         "4",
         "201804",
         "AS015739",
         "7"
        ]
       ],
       "shape": {
        "columns": 3,
        "rows": 5
       }
      },
      "text/html": [
       "<div>\n",
       "<style scoped>\n",
       "    .dataframe tbody tr th:only-of-type {\n",
       "        vertical-align: middle;\n",
       "    }\n",
       "\n",
       "    .dataframe tbody tr th {\n",
       "        vertical-align: top;\n",
       "    }\n",
       "\n",
       "    .dataframe thead th {\n",
       "        text-align: right;\n",
       "    }\n",
       "</style>\n",
       "<table border=\"1\" class=\"dataframe\">\n",
       "  <thead>\n",
       "    <tr style=\"text-align: right;\">\n",
       "      <th></th>\n",
       "      <th>年月</th>\n",
       "      <th>customer_id</th>\n",
       "      <th>count</th>\n",
       "    </tr>\n",
       "  </thead>\n",
       "  <tbody>\n",
       "    <tr>\n",
       "      <th>0</th>\n",
       "      <td>201804</td>\n",
       "      <td>AS002855</td>\n",
       "      <td>4</td>\n",
       "    </tr>\n",
       "    <tr>\n",
       "      <th>1</th>\n",
       "      <td>201804</td>\n",
       "      <td>AS009013</td>\n",
       "      <td>2</td>\n",
       "    </tr>\n",
       "    <tr>\n",
       "      <th>2</th>\n",
       "      <td>201804</td>\n",
       "      <td>AS009373</td>\n",
       "      <td>3</td>\n",
       "    </tr>\n",
       "    <tr>\n",
       "      <th>3</th>\n",
       "      <td>201804</td>\n",
       "      <td>AS015315</td>\n",
       "      <td>6</td>\n",
       "    </tr>\n",
       "    <tr>\n",
       "      <th>4</th>\n",
       "      <td>201804</td>\n",
       "      <td>AS015739</td>\n",
       "      <td>7</td>\n",
       "    </tr>\n",
       "  </tbody>\n",
       "</table>\n",
       "</div>"
      ],
      "text/plain": [
       "       年月 customer_id  count\n",
       "0  201804    AS002855      4\n",
       "1  201804    AS009013      2\n",
       "2  201804    AS009373      3\n",
       "3  201804    AS015315      6\n",
       "4  201804    AS015739      7"
      ]
     },
     "execution_count": 19,
     "metadata": {},
     "output_type": "execute_result"
    }
   ],
   "source": [
    "uselog[\"usedate\"] = pd.to_datetime(uselog[\"usedate\"]) # 利用日をdatetime型に変換\n",
    "uselog[\"年月\"] = uselog[\"usedate\"].dt.strftime(\"%Y%m\") # 年月を抽出\n",
    "\n",
    "uselog_months = uselog.groupby([\"年月\", \"customer_id\"], as_index = False).count() # 年月ごとの利用回数を集計\n",
    "uselog_months.rename(columns = {\"log_id\": \"count\"}, inplace = True) # 列名を変更\n",
    "\n",
    "del uselog_months[\"usedate\"] # usedate列を削除\n",
    "uselog_months.head() # 年月ごとの利用回数を集計したデータの確認"
   ]
  },
  {
   "cell_type": "markdown",
   "id": "5b1b0110",
   "metadata": {},
   "source": [
    "- 集計は log_id のカウントを取れば良いので、余分な usedate は削除してある。"
   ]
  },
  {
   "cell_type": "code",
   "execution_count": 21,
   "id": "75b1eaa4",
   "metadata": {},
   "outputs": [
    {
     "data": {
      "application/vnd.microsoft.datawrangler.viewer.v0+json": {
       "columns": [
        {
         "name": "index",
         "rawType": "int64",
         "type": "integer"
        },
        {
         "name": "customer_id",
         "rawType": "object",
         "type": "string"
        },
        {
         "name": "mean",
         "rawType": "float64",
         "type": "float"
        },
        {
         "name": "median",
         "rawType": "float64",
         "type": "float"
        },
        {
         "name": "max",
         "rawType": "int64",
         "type": "integer"
        },
        {
         "name": "min",
         "rawType": "int64",
         "type": "integer"
        }
       ],
       "conversionMethod": "pd.DataFrame",
       "ref": "34a18346-19e2-4976-a642-d876303975d3",
       "rows": [
        [
         "0",
         "AS002855",
         "4.5",
         "5.0",
         "7",
         "2"
        ],
        [
         "1",
         "AS008805",
         "4.0",
         "4.0",
         "8",
         "1"
        ],
        [
         "2",
         "AS009013",
         "2.0",
         "2.0",
         "2",
         "2"
        ],
        [
         "3",
         "AS009373",
         "5.083333333333333",
         "5.0",
         "7",
         "3"
        ],
        [
         "4",
         "AS015233",
         "7.545454545454546",
         "7.0",
         "11",
         "4"
        ]
       ],
       "shape": {
        "columns": 5,
        "rows": 5
       }
      },
      "text/html": [
       "<div>\n",
       "<style scoped>\n",
       "    .dataframe tbody tr th:only-of-type {\n",
       "        vertical-align: middle;\n",
       "    }\n",
       "\n",
       "    .dataframe tbody tr th {\n",
       "        vertical-align: top;\n",
       "    }\n",
       "\n",
       "    .dataframe thead th {\n",
       "        text-align: right;\n",
       "    }\n",
       "</style>\n",
       "<table border=\"1\" class=\"dataframe\">\n",
       "  <thead>\n",
       "    <tr style=\"text-align: right;\">\n",
       "      <th></th>\n",
       "      <th>customer_id</th>\n",
       "      <th>mean</th>\n",
       "      <th>median</th>\n",
       "      <th>max</th>\n",
       "      <th>min</th>\n",
       "    </tr>\n",
       "  </thead>\n",
       "  <tbody>\n",
       "    <tr>\n",
       "      <th>0</th>\n",
       "      <td>AS002855</td>\n",
       "      <td>4.500000</td>\n",
       "      <td>5.0</td>\n",
       "      <td>7</td>\n",
       "      <td>2</td>\n",
       "    </tr>\n",
       "    <tr>\n",
       "      <th>1</th>\n",
       "      <td>AS008805</td>\n",
       "      <td>4.000000</td>\n",
       "      <td>4.0</td>\n",
       "      <td>8</td>\n",
       "      <td>1</td>\n",
       "    </tr>\n",
       "    <tr>\n",
       "      <th>2</th>\n",
       "      <td>AS009013</td>\n",
       "      <td>2.000000</td>\n",
       "      <td>2.0</td>\n",
       "      <td>2</td>\n",
       "      <td>2</td>\n",
       "    </tr>\n",
       "    <tr>\n",
       "      <th>3</th>\n",
       "      <td>AS009373</td>\n",
       "      <td>5.083333</td>\n",
       "      <td>5.0</td>\n",
       "      <td>7</td>\n",
       "      <td>3</td>\n",
       "    </tr>\n",
       "    <tr>\n",
       "      <th>4</th>\n",
       "      <td>AS015233</td>\n",
       "      <td>7.545455</td>\n",
       "      <td>7.0</td>\n",
       "      <td>11</td>\n",
       "      <td>4</td>\n",
       "    </tr>\n",
       "  </tbody>\n",
       "</table>\n",
       "</div>"
      ],
      "text/plain": [
       "  customer_id      mean  median  max  min\n",
       "0    AS002855  4.500000     5.0    7    2\n",
       "1    AS008805  4.000000     4.0    8    1\n",
       "2    AS009013  2.000000     2.0    2    2\n",
       "3    AS009373  5.083333     5.0    7    3\n",
       "4    AS015233  7.545455     7.0   11    4"
      ]
     },
     "execution_count": 21,
     "metadata": {},
     "output_type": "execute_result"
    }
   ],
   "source": [
    "uselog_months[\"count\"] = pd.to_numeric(uselog_months[\"count\"], errors=\"coerce\") # count列を数値型に変換\n",
    "\n",
    "uselog_customer = uselog_months.groupby(\"customer_id\")[\"count\"].agg([\"mean\",\"median\", \"max\", \"min\"]) # 会員ごとの利用回数の平均、中央値、最大値、最小値を集計\n",
    "\n",
    "\n",
    "uselog_customer = uselog_customer.reset_index(drop = False) # customer_idをインデックスから外す\n",
    "uselog_customer.head()"
   ]
  },
  {
   "cell_type": "markdown",
   "id": "a442d1eb",
   "metadata": {},
   "source": [
    "- uselog_customer = uselog_months.groupby(\"customer_id\").agg([\"mean\",\"median\", \"max\", \"min\"])[\"count\"]\n",
    "  - 実行すると、TypeError: agg function failed [how->mean,dtype->object]というエラーが出た\n",
    "  - このエラーは、agg([\"mean\", \"median\", \"max\", \"min\"]) を適用しようとしている列（この場合 \"count\"）が 数値型ではなく object型（文字列など）になっている ために発生しています。\n",
    "<br><br>\n",
    "### エラーの原因\n",
    "- agg() で mean や median を使うためには、対象の列が 数値（intやfloat）型 である必要があります。\n",
    "- object 型の列には平均や中央値などの統計処理ができず、以下のようなエラーになります：\n",
    "  - TypeError: agg function failed [how->mean, dtype->object]\n",
    "<br><br>\n",
    "### ✅ 解決方法\n",
    "- 「count」列を数値型に変換してから集計する\n",
    "![解決コード](https://files.oaiusercontent.com/file-XrNevnzgXvta1YqpaSA16M?se=2025-04-23T06%3A24%3A11Z&sp=r&sv=2024-08-04&sr=b&rscc=max-age%3D299%2C%20immutable%2C%20private&rscd=attachment%3B%20filename%3Dca8d5ac2-127a-41e1-b29a-d947d9160af5&sig=aOFJMh%2B5sAj40HtQRyxr6QbuwYxwtsy/MQZWSsuWO24%3D)\n",
    "  - pd.to_numeric(..., errors=\"coerce\") は、数値に変換できないものを NaN にしてくれる関数です。\n",
    "<br><br>\n",
    "- ✅ おまけ：ワンライナー形式で書くなら\n",
    "![おまけ](https://files09.oaiusercontent.com/file-YbVPnyUSHS1AJ7rMovFaQp?se=2025-04-23T06%3A19%3A12Z&sp=r&sv=2024-08-04&sr=b&rscc=max-age%3D299%2C%20immutable%2C%20private&rscd=attachment%3B%20filename%3D0b65dd70-6f2e-4e71-ad62-b1d5638bb3a7&sig=z8orURrWvp%2BFVlvxATcJXUPlGsZYw3LzBXID3ENobSo%3D)"
   ]
  },
  {
   "cell_type": "markdown",
   "id": "2802e152",
   "metadata": {},
   "source": [
    "## [26]: 利用履歴データから定期利用フラグを作成する"
   ]
  },
  {
   "cell_type": "code",
   "execution_count": 23,
   "id": "2c39f083",
   "metadata": {},
   "outputs": [
    {
     "data": {
      "application/vnd.microsoft.datawrangler.viewer.v0+json": {
       "columns": [
        {
         "name": "index",
         "rawType": "int64",
         "type": "integer"
        },
        {
         "name": "customer_id",
         "rawType": "object",
         "type": "string"
        },
        {
         "name": "年月",
         "rawType": "object",
         "type": "string"
        },
        {
         "name": "weekday",
         "rawType": "int32",
         "type": "integer"
        },
        {
         "name": "count",
         "rawType": "int64",
         "type": "integer"
        }
       ],
       "conversionMethod": "pd.DataFrame",
       "ref": "1946b9ca-fda3-4d41-a575-3e8c45d3969c",
       "rows": [
        [
         "0",
         "AS002855",
         "201804",
         "5",
         "4"
        ],
        [
         "1",
         "AS002855",
         "201805",
         "2",
         "1"
        ],
        [
         "2",
         "AS002855",
         "201805",
         "5",
         "4"
        ],
        [
         "3",
         "AS002855",
         "201806",
         "5",
         "5"
        ],
        [
         "4",
         "AS002855",
         "201807",
         "1",
         "1"
        ]
       ],
       "shape": {
        "columns": 4,
        "rows": 5
       }
      },
      "text/html": [
       "<div>\n",
       "<style scoped>\n",
       "    .dataframe tbody tr th:only-of-type {\n",
       "        vertical-align: middle;\n",
       "    }\n",
       "\n",
       "    .dataframe tbody tr th {\n",
       "        vertical-align: top;\n",
       "    }\n",
       "\n",
       "    .dataframe thead th {\n",
       "        text-align: right;\n",
       "    }\n",
       "</style>\n",
       "<table border=\"1\" class=\"dataframe\">\n",
       "  <thead>\n",
       "    <tr style=\"text-align: right;\">\n",
       "      <th></th>\n",
       "      <th>customer_id</th>\n",
       "      <th>年月</th>\n",
       "      <th>weekday</th>\n",
       "      <th>count</th>\n",
       "    </tr>\n",
       "  </thead>\n",
       "  <tbody>\n",
       "    <tr>\n",
       "      <th>0</th>\n",
       "      <td>AS002855</td>\n",
       "      <td>201804</td>\n",
       "      <td>5</td>\n",
       "      <td>4</td>\n",
       "    </tr>\n",
       "    <tr>\n",
       "      <th>1</th>\n",
       "      <td>AS002855</td>\n",
       "      <td>201805</td>\n",
       "      <td>2</td>\n",
       "      <td>1</td>\n",
       "    </tr>\n",
       "    <tr>\n",
       "      <th>2</th>\n",
       "      <td>AS002855</td>\n",
       "      <td>201805</td>\n",
       "      <td>5</td>\n",
       "      <td>4</td>\n",
       "    </tr>\n",
       "    <tr>\n",
       "      <th>3</th>\n",
       "      <td>AS002855</td>\n",
       "      <td>201806</td>\n",
       "      <td>5</td>\n",
       "      <td>5</td>\n",
       "    </tr>\n",
       "    <tr>\n",
       "      <th>4</th>\n",
       "      <td>AS002855</td>\n",
       "      <td>201807</td>\n",
       "      <td>1</td>\n",
       "      <td>1</td>\n",
       "    </tr>\n",
       "  </tbody>\n",
       "</table>\n",
       "</div>"
      ],
      "text/plain": [
       "  customer_id      年月  weekday  count\n",
       "0    AS002855  201804        5      4\n",
       "1    AS002855  201805        2      1\n",
       "2    AS002855  201805        5      4\n",
       "3    AS002855  201806        5      5\n",
       "4    AS002855  201807        1      1"
      ]
     },
     "execution_count": 23,
     "metadata": {},
     "output_type": "execute_result"
    }
   ],
   "source": [
    "uselog[\"weekday\"] = uselog[\"usedate\"].dt.weekday # 曜日を抽出\n",
    "uselog_weekday = uselog.groupby([\"customer_id\", \"年月\", \"weekday\"], as_index = False).count()[[\"customer_id\", \"年月\", \"weekday\", \"log_id\"]] # 曜日ごとの利用回数を集計\n",
    "uselog_weekday.rename(columns = {\"log_id\": \"count\"}, inplace = True) # 列名を変更\n",
    "uselog_weekday.head()"
   ]
  },
  {
   "cell_type": "markdown",
   "id": "bb229a3f",
   "metadata": {},
   "source": [
    "\n",
    "---\n",
    "\n",
    "### 1. 曜日を抽出\n",
    "```python\n",
    "uselog[\"weekday\"] = uselog[\"usedate\"].dt.weekday\n",
    "```\n",
    "- `uselog[\"usedate\"]` は利用日を表す列で、`datetime` 型に変換済みです。\n",
    "- `.dt.weekday` を使うことで、利用日の曜日を数値（0: 月曜日, 1: 火曜日, ..., 6: 日曜日）として取得します。\n",
    "- 新しい列 `weekday` を作成し、曜日情報を格納します。\n",
    "\n",
    "---\n",
    "\n",
    "### 2. 曜日ごとの利用回数を集計\n",
    "```python\n",
    "uselog_weekday = uselog.groupby([\"customer_id\", \"年月\", \"weekday\"], as_index = False).count()[[\"customer_id\", \"年月\", \"weekday\", \"log_id\"]]\n",
    "```\n",
    "- `groupby([\"customer_id\", \"年月\", \"weekday\"])`:\n",
    "  - 利用履歴データを「顧客ID（`customer_id`）」「年月（`年月`）」「曜日（`weekday`）」の3つのキーでグループ化します。\n",
    "- `.count()`:\n",
    "  - 各グループ内で、指定された列（ここでは `log_id`）の件数をカウントします。\n",
    "- `[[\"customer_id\", \"年月\", \"weekday\", \"log_id\"]]`:\n",
    "  - 必要な列（`customer_id`, `年月`, `weekday`, `log_id`）だけを抽出します。\n",
    "- この結果、各顧客が特定の年月・曜日にジムを利用した回数が集計されます。\n",
    "\n",
    "---\n",
    "\n",
    "### 3. 列名を変更\n",
    "```python\n",
    "uselog_weekday.rename(columns = {\"log_id\": \"count\"}, inplace = True)\n",
    "```\n",
    "- 集計結果の列名 `log_id` を `count` に変更します。\n",
    "- これにより、列の意味が「利用回数」であることが明確になります。\n",
    "\n",
    "---\n",
    "\n",
    "### 4. 集計結果の確認\n",
    "```python\n",
    "uselog_weekday.head()\n",
    "```\n",
    "- 集計結果の先頭5行を表示して、データの内容を確認します。\n",
    "\n",
    "---\n",
    "\n",
    "### 全体の流れ\n",
    "このコードの目的は、「顧客ごとに、特定の年月・曜日にジムを利用した回数」を集計し、データフレーム `uselog_weekday` にまとめることです。これにより、曜日ごとの利用傾向を分析する準備が整います。\n"
   ]
  },
  {
   "cell_type": "code",
   "execution_count": 25,
   "id": "a6cc8b6d",
   "metadata": {},
   "outputs": [
    {
     "data": {
      "application/vnd.microsoft.datawrangler.viewer.v0+json": {
       "columns": [
        {
         "name": "index",
         "rawType": "int64",
         "type": "integer"
        },
        {
         "name": "customer_id",
         "rawType": "object",
         "type": "string"
        },
        {
         "name": "count",
         "rawType": "int64",
         "type": "integer"
        },
        {
         "name": "routine_flg",
         "rawType": "int64",
         "type": "integer"
        }
       ],
       "conversionMethod": "pd.DataFrame",
       "ref": "5b70b65a-c58a-4dd0-b6d2-77193dfedc97",
       "rows": [
        [
         "0",
         "AS002855",
         "5",
         "1"
        ],
        [
         "1",
         "AS008805",
         "4",
         "1"
        ],
        [
         "2",
         "AS009013",
         "2",
         "0"
        ],
        [
         "3",
         "AS009373",
         "5",
         "1"
        ],
        [
         "4",
         "AS015233",
         "5",
         "1"
        ]
       ],
       "shape": {
        "columns": 3,
        "rows": 5
       }
      },
      "text/html": [
       "<div>\n",
       "<style scoped>\n",
       "    .dataframe tbody tr th:only-of-type {\n",
       "        vertical-align: middle;\n",
       "    }\n",
       "\n",
       "    .dataframe tbody tr th {\n",
       "        vertical-align: top;\n",
       "    }\n",
       "\n",
       "    .dataframe thead th {\n",
       "        text-align: right;\n",
       "    }\n",
       "</style>\n",
       "<table border=\"1\" class=\"dataframe\">\n",
       "  <thead>\n",
       "    <tr style=\"text-align: right;\">\n",
       "      <th></th>\n",
       "      <th>customer_id</th>\n",
       "      <th>count</th>\n",
       "      <th>routine_flg</th>\n",
       "    </tr>\n",
       "  </thead>\n",
       "  <tbody>\n",
       "    <tr>\n",
       "      <th>0</th>\n",
       "      <td>AS002855</td>\n",
       "      <td>5</td>\n",
       "      <td>1</td>\n",
       "    </tr>\n",
       "    <tr>\n",
       "      <th>1</th>\n",
       "      <td>AS008805</td>\n",
       "      <td>4</td>\n",
       "      <td>1</td>\n",
       "    </tr>\n",
       "    <tr>\n",
       "      <th>2</th>\n",
       "      <td>AS009013</td>\n",
       "      <td>2</td>\n",
       "      <td>0</td>\n",
       "    </tr>\n",
       "    <tr>\n",
       "      <th>3</th>\n",
       "      <td>AS009373</td>\n",
       "      <td>5</td>\n",
       "      <td>1</td>\n",
       "    </tr>\n",
       "    <tr>\n",
       "      <th>4</th>\n",
       "      <td>AS015233</td>\n",
       "      <td>5</td>\n",
       "      <td>1</td>\n",
       "    </tr>\n",
       "  </tbody>\n",
       "</table>\n",
       "</div>"
      ],
      "text/plain": [
       "  customer_id  count  routine_flg\n",
       "0    AS002855      5            1\n",
       "1    AS008805      4            1\n",
       "2    AS009013      2            0\n",
       "3    AS009373      5            1\n",
       "4    AS015233      5            1"
      ]
     },
     "execution_count": 25,
     "metadata": {},
     "output_type": "execute_result"
    }
   ],
   "source": [
    "uselog_weekday = uselog_weekday.groupby(\"customer_id\", as_index = False).max()[[\"customer_id\", \"count\"]] # 曜日ごとの平均利用回数を集計\n",
    "uselog_weekday[\"routine_flg\"] = 0 # 曜日ごとの平均利用回数を集計したデータにフラグを追加\n",
    "uselog_weekday[\"routine_flg\"] = uselog_weekday[\"routine_flg\"].where(uselog_weekday[\"count\"] < 4, 1) # 曜日ごとの平均利用回数が4回以上の会員をフラグ1にする\n",
    "uselog_weekday.head()"
   ]
  },
  {
   "cell_type": "markdown",
   "id": "fad1e984",
   "metadata": {},
   "source": [
    "このコードは、曜日ごとの利用回数データを基に「定期的に利用しているかどうか」を判定するフラグ（`routine_flg`）を作成しています。以下に各行の処理を解説します。\n",
    "\n",
    "---\n",
    "\n",
    "### 1. 顧客ごとの最大利用回数を取得\n",
    "```python\n",
    "uselog_weekday = uselog_weekday.groupby(\"customer_id\", as_index = False).max()[[\"customer_id\", \"count\"]]\n",
    "```\n",
    "- `groupby(\"customer_id\")`:\n",
    "  - 顧客ID（`customer_id`）ごとにデータをグループ化します。\n",
    "- `.max()`:\n",
    "  - 各顧客について、曜日ごとの利用回数（`count`）の最大値を取得します。\n",
    "  - つまり、各顧客が最も多く利用した曜日の利用回数を抽出します。\n",
    "- `[[\"customer_id\", \"count\"]]`:\n",
    "  - 必要な列（`customer_id` と `count`）だけを抽出します。\n",
    "- 結果:\n",
    "  - 各顧客の「最も多く利用した曜日の利用回数」がまとめられたデータフレームが作成されます。\n",
    "\n",
    "---\n",
    "\n",
    "### 2. 定期利用フラグの初期化\n",
    "```python\n",
    "uselog_weekday[\"routine_flg\"] = 0\n",
    "```\n",
    "- 新しい列 `routine_flg` を作成し、初期値としてすべての行に `0` を設定します。\n",
    "- この列は、後で「定期的に利用しているかどうか」を示すフラグとして使用されます。\n",
    "\n",
    "---\n",
    "\n",
    "### 3. 定期利用フラグの条件設定\n",
    "```python\n",
    "uselog_weekday[\"routine_flg\"] = uselog_weekday[\"routine_flg\"].where(uselog_weekday[\"count\"] < 4, 1)\n",
    "```\n",
    "- `uselog_weekday[\"routine_flg\"].where(uselog_weekday[\"count\"] < 4, 1)`:\n",
    "  - `where` 関数を使用して、条件に応じて値を変更します。\n",
    "  - 条件: `uselog_weekday[\"count\"] < 4`\n",
    "    - 利用回数が4回未満の場合、`routine_flg` をそのまま `0` にします。\n",
    "    - 利用回数が4回以上の場合、`routine_flg` を `1` に変更します。\n",
    "- 結果:\n",
    "  - 利用回数が4回以上の顧客は「定期的に利用している」とみなされ、`routine_flg` が `1` になります。\n",
    "\n",
    "---\n",
    "\n",
    "### 4. データの確認\n",
    "```python\n",
    "uselog_weekday.head()\n",
    "```\n",
    "- 処理結果の先頭5行を表示して、データの内容を確認します。\n",
    "\n",
    "---\n",
    "\n",
    "### 全体の流れ\n",
    "1. 各顧客について、最も多く利用した曜日の利用回数を取得。\n",
    "2. 新しいフラグ列 `routine_flg` を作成し、初期値を `0` に設定。\n",
    "3. 利用回数が4回以上の顧客に対して、`routine_flg` を `1` に変更。\n",
    "4. 結果として、各顧客が「定期的に利用しているかどうか」を示すデータフレームが完成します。"
   ]
  },
  {
   "cell_type": "markdown",
   "id": "058d940c",
   "metadata": {},
   "source": [
    "## [27]: 顧客データと利用履歴データを結合する"
   ]
  },
  {
   "cell_type": "code",
   "execution_count": 28,
   "id": "cec9c0f8",
   "metadata": {},
   "outputs": [
    {
     "data": {
      "application/vnd.microsoft.datawrangler.viewer.v0+json": {
       "columns": [
        {
         "name": "index",
         "rawType": "int64",
         "type": "integer"
        },
        {
         "name": "customer_id",
         "rawType": "object",
         "type": "string"
        },
        {
         "name": "name",
         "rawType": "object",
         "type": "string"
        },
        {
         "name": "class",
         "rawType": "object",
         "type": "string"
        },
        {
         "name": "gender",
         "rawType": "object",
         "type": "string"
        },
        {
         "name": "start_date",
         "rawType": "datetime64[ns]",
         "type": "datetime"
        },
        {
         "name": "end_date",
         "rawType": "datetime64[ns]",
         "type": "datetime"
        },
        {
         "name": "campaign_id",
         "rawType": "object",
         "type": "string"
        },
        {
         "name": "is_deleted",
         "rawType": "int64",
         "type": "integer"
        },
        {
         "name": "class_name",
         "rawType": "object",
         "type": "string"
        },
        {
         "name": "price",
         "rawType": "int64",
         "type": "integer"
        },
        {
         "name": "campaign_name",
         "rawType": "object",
         "type": "string"
        },
        {
         "name": "mean_x",
         "rawType": "float64",
         "type": "float"
        },
        {
         "name": "median_x",
         "rawType": "float64",
         "type": "float"
        },
        {
         "name": "max_x",
         "rawType": "int64",
         "type": "integer"
        },
        {
         "name": "min_x",
         "rawType": "int64",
         "type": "integer"
        },
        {
         "name": "mean_y",
         "rawType": "float64",
         "type": "float"
        },
        {
         "name": "median_y",
         "rawType": "float64",
         "type": "float"
        },
        {
         "name": "max_y",
         "rawType": "int64",
         "type": "integer"
        },
        {
         "name": "min_y",
         "rawType": "int64",
         "type": "integer"
        },
        {
         "name": "mean",
         "rawType": "float64",
         "type": "float"
        },
        {
         "name": "median",
         "rawType": "float64",
         "type": "float"
        },
        {
         "name": "max",
         "rawType": "int64",
         "type": "integer"
        },
        {
         "name": "min",
         "rawType": "int64",
         "type": "integer"
        },
        {
         "name": "routine_flg",
         "rawType": "int64",
         "type": "integer"
        }
       ],
       "conversionMethod": "pd.DataFrame",
       "ref": "11570796-5879-4623-9a85-ac4617780278",
       "rows": [
        [
         "0",
         "OA832399",
         "XXXX",
         "C01",
         "F",
         "2015-05-01 00:00:00",
         null,
         "CA1",
         "0",
         "オールタイム",
         "10500",
         "通常",
         "4.833333333333333",
         "5.0",
         "8",
         "2",
         "4.833333333333333",
         "5.0",
         "8",
         "2",
         "4.833333333333333",
         "5.0",
         "8",
         "2",
         "1"
        ],
        [
         "1",
         "PL270116",
         "XXXXX",
         "C01",
         "M",
         "2015-05-01 00:00:00",
         null,
         "CA1",
         "0",
         "オールタイム",
         "10500",
         "通常",
         "5.083333333333333",
         "5.0",
         "7",
         "3",
         "5.083333333333333",
         "5.0",
         "7",
         "3",
         "5.083333333333333",
         "5.0",
         "7",
         "3",
         "1"
        ],
        [
         "2",
         "OA974876",
         "XXXXX",
         "C01",
         "M",
         "2015-05-01 00:00:00",
         null,
         "CA1",
         "0",
         "オールタイム",
         "10500",
         "通常",
         "4.583333333333333",
         "5.0",
         "6",
         "3",
         "4.583333333333333",
         "5.0",
         "6",
         "3",
         "4.583333333333333",
         "5.0",
         "6",
         "3",
         "1"
        ],
        [
         "3",
         "HD024127",
         "XXXXX",
         "C01",
         "F",
         "2015-05-01 00:00:00",
         null,
         "CA1",
         "0",
         "オールタイム",
         "10500",
         "通常",
         "4.833333333333333",
         "4.5",
         "7",
         "2",
         "4.833333333333333",
         "4.5",
         "7",
         "2",
         "4.833333333333333",
         "4.5",
         "7",
         "2",
         "1"
        ],
        [
         "4",
         "HD661448",
         "XXXXX",
         "C03",
         "F",
         "2015-05-01 00:00:00",
         null,
         "CA1",
         "0",
         "ナイト",
         "6000",
         "通常",
         "3.9166666666666665",
         "4.0",
         "6",
         "1",
         "3.9166666666666665",
         "4.0",
         "6",
         "1",
         "3.9166666666666665",
         "4.0",
         "6",
         "1",
         "1"
        ]
       ],
       "shape": {
        "columns": 24,
        "rows": 5
       }
      },
      "text/html": [
       "<div>\n",
       "<style scoped>\n",
       "    .dataframe tbody tr th:only-of-type {\n",
       "        vertical-align: middle;\n",
       "    }\n",
       "\n",
       "    .dataframe tbody tr th {\n",
       "        vertical-align: top;\n",
       "    }\n",
       "\n",
       "    .dataframe thead th {\n",
       "        text-align: right;\n",
       "    }\n",
       "</style>\n",
       "<table border=\"1\" class=\"dataframe\">\n",
       "  <thead>\n",
       "    <tr style=\"text-align: right;\">\n",
       "      <th></th>\n",
       "      <th>customer_id</th>\n",
       "      <th>name</th>\n",
       "      <th>class</th>\n",
       "      <th>gender</th>\n",
       "      <th>start_date</th>\n",
       "      <th>end_date</th>\n",
       "      <th>campaign_id</th>\n",
       "      <th>is_deleted</th>\n",
       "      <th>class_name</th>\n",
       "      <th>price</th>\n",
       "      <th>...</th>\n",
       "      <th>min_x</th>\n",
       "      <th>mean_y</th>\n",
       "      <th>median_y</th>\n",
       "      <th>max_y</th>\n",
       "      <th>min_y</th>\n",
       "      <th>mean</th>\n",
       "      <th>median</th>\n",
       "      <th>max</th>\n",
       "      <th>min</th>\n",
       "      <th>routine_flg</th>\n",
       "    </tr>\n",
       "  </thead>\n",
       "  <tbody>\n",
       "    <tr>\n",
       "      <th>0</th>\n",
       "      <td>OA832399</td>\n",
       "      <td>XXXX</td>\n",
       "      <td>C01</td>\n",
       "      <td>F</td>\n",
       "      <td>2015-05-01</td>\n",
       "      <td>NaT</td>\n",
       "      <td>CA1</td>\n",
       "      <td>0</td>\n",
       "      <td>オールタイム</td>\n",
       "      <td>10500</td>\n",
       "      <td>...</td>\n",
       "      <td>2</td>\n",
       "      <td>4.833333</td>\n",
       "      <td>5.0</td>\n",
       "      <td>8</td>\n",
       "      <td>2</td>\n",
       "      <td>4.833333</td>\n",
       "      <td>5.0</td>\n",
       "      <td>8</td>\n",
       "      <td>2</td>\n",
       "      <td>1</td>\n",
       "    </tr>\n",
       "    <tr>\n",
       "      <th>1</th>\n",
       "      <td>PL270116</td>\n",
       "      <td>XXXXX</td>\n",
       "      <td>C01</td>\n",
       "      <td>M</td>\n",
       "      <td>2015-05-01</td>\n",
       "      <td>NaT</td>\n",
       "      <td>CA1</td>\n",
       "      <td>0</td>\n",
       "      <td>オールタイム</td>\n",
       "      <td>10500</td>\n",
       "      <td>...</td>\n",
       "      <td>3</td>\n",
       "      <td>5.083333</td>\n",
       "      <td>5.0</td>\n",
       "      <td>7</td>\n",
       "      <td>3</td>\n",
       "      <td>5.083333</td>\n",
       "      <td>5.0</td>\n",
       "      <td>7</td>\n",
       "      <td>3</td>\n",
       "      <td>1</td>\n",
       "    </tr>\n",
       "    <tr>\n",
       "      <th>2</th>\n",
       "      <td>OA974876</td>\n",
       "      <td>XXXXX</td>\n",
       "      <td>C01</td>\n",
       "      <td>M</td>\n",
       "      <td>2015-05-01</td>\n",
       "      <td>NaT</td>\n",
       "      <td>CA1</td>\n",
       "      <td>0</td>\n",
       "      <td>オールタイム</td>\n",
       "      <td>10500</td>\n",
       "      <td>...</td>\n",
       "      <td>3</td>\n",
       "      <td>4.583333</td>\n",
       "      <td>5.0</td>\n",
       "      <td>6</td>\n",
       "      <td>3</td>\n",
       "      <td>4.583333</td>\n",
       "      <td>5.0</td>\n",
       "      <td>6</td>\n",
       "      <td>3</td>\n",
       "      <td>1</td>\n",
       "    </tr>\n",
       "    <tr>\n",
       "      <th>3</th>\n",
       "      <td>HD024127</td>\n",
       "      <td>XXXXX</td>\n",
       "      <td>C01</td>\n",
       "      <td>F</td>\n",
       "      <td>2015-05-01</td>\n",
       "      <td>NaT</td>\n",
       "      <td>CA1</td>\n",
       "      <td>0</td>\n",
       "      <td>オールタイム</td>\n",
       "      <td>10500</td>\n",
       "      <td>...</td>\n",
       "      <td>2</td>\n",
       "      <td>4.833333</td>\n",
       "      <td>4.5</td>\n",
       "      <td>7</td>\n",
       "      <td>2</td>\n",
       "      <td>4.833333</td>\n",
       "      <td>4.5</td>\n",
       "      <td>7</td>\n",
       "      <td>2</td>\n",
       "      <td>1</td>\n",
       "    </tr>\n",
       "    <tr>\n",
       "      <th>4</th>\n",
       "      <td>HD661448</td>\n",
       "      <td>XXXXX</td>\n",
       "      <td>C03</td>\n",
       "      <td>F</td>\n",
       "      <td>2015-05-01</td>\n",
       "      <td>NaT</td>\n",
       "      <td>CA1</td>\n",
       "      <td>0</td>\n",
       "      <td>ナイト</td>\n",
       "      <td>6000</td>\n",
       "      <td>...</td>\n",
       "      <td>1</td>\n",
       "      <td>3.916667</td>\n",
       "      <td>4.0</td>\n",
       "      <td>6</td>\n",
       "      <td>1</td>\n",
       "      <td>3.916667</td>\n",
       "      <td>4.0</td>\n",
       "      <td>6</td>\n",
       "      <td>1</td>\n",
       "      <td>1</td>\n",
       "    </tr>\n",
       "  </tbody>\n",
       "</table>\n",
       "<p>5 rows × 24 columns</p>\n",
       "</div>"
      ],
      "text/plain": [
       "  customer_id   name class gender start_date end_date campaign_id  is_deleted  \\\n",
       "0    OA832399   XXXX   C01      F 2015-05-01      NaT         CA1           0   \n",
       "1    PL270116  XXXXX   C01      M 2015-05-01      NaT         CA1           0   \n",
       "2    OA974876  XXXXX   C01      M 2015-05-01      NaT         CA1           0   \n",
       "3    HD024127  XXXXX   C01      F 2015-05-01      NaT         CA1           0   \n",
       "4    HD661448  XXXXX   C03      F 2015-05-01      NaT         CA1           0   \n",
       "\n",
       "  class_name  price  ... min_x    mean_y  median_y  max_y  min_y      mean  \\\n",
       "0     オールタイム  10500  ...     2  4.833333       5.0      8      2  4.833333   \n",
       "1     オールタイム  10500  ...     3  5.083333       5.0      7      3  5.083333   \n",
       "2     オールタイム  10500  ...     3  4.583333       5.0      6      3  4.583333   \n",
       "3     オールタイム  10500  ...     2  4.833333       4.5      7      2  4.833333   \n",
       "4        ナイト   6000  ...     1  3.916667       4.0      6      1  3.916667   \n",
       "\n",
       "   median  max  min  routine_flg  \n",
       "0     5.0    8    2            1  \n",
       "1     5.0    7    3            1  \n",
       "2     5.0    6    3            1  \n",
       "3     4.5    7    2            1  \n",
       "4     4.0    6    1            1  \n",
       "\n",
       "[5 rows x 24 columns]"
      ]
     },
     "execution_count": 28,
     "metadata": {},
     "output_type": "execute_result"
    }
   ],
   "source": [
    "customer_join = pd.merge(customer_join, uselog_customer, on = \"customer_id\", how = \"left\") # 利用回数の集計結果を結合\n",
    "customer_join = pd.merge(customer_join, uselog_weekday[[\"customer_id\", \"routine_flg\"]], on = \"customer_id\", how = \"left\") # 曜日ごとの平均利用回数を結合\n",
    "customer_join.head()"
   ]
  },
  {
   "cell_type": "code",
   "execution_count": 29,
   "id": "41255592",
   "metadata": {},
   "outputs": [
    {
     "data": {
      "text/plain": [
       "customer_id         0\n",
       "name                0\n",
       "class               0\n",
       "gender              0\n",
       "start_date          0\n",
       "end_date         2842\n",
       "campaign_id         0\n",
       "is_deleted          0\n",
       "class_name          0\n",
       "price               0\n",
       "campaign_name       0\n",
       "mean_x              0\n",
       "median_x            0\n",
       "max_x               0\n",
       "min_x               0\n",
       "mean_y              0\n",
       "median_y            0\n",
       "max_y               0\n",
       "min_y               0\n",
       "mean                0\n",
       "median              0\n",
       "max                 0\n",
       "min                 0\n",
       "routine_flg         0\n",
       "dtype: int64"
      ]
     },
     "execution_count": 29,
     "metadata": {},
     "output_type": "execute_result"
    }
   ],
   "source": [
    "customer_join.isnull().sum() # 欠損値の確認"
   ]
  },
  {
   "cell_type": "markdown",
   "id": "8dec9832",
   "metadata": {},
   "source": [
    "## [28]: 会員期間を計算する"
   ]
  },
  {
   "cell_type": "code",
   "execution_count": 30,
   "id": "84ef489d",
   "metadata": {},
   "outputs": [
    {
     "data": {
      "application/vnd.microsoft.datawrangler.viewer.v0+json": {
       "columns": [
        {
         "name": "index",
         "rawType": "int64",
         "type": "integer"
        },
        {
         "name": "customer_id",
         "rawType": "object",
         "type": "string"
        },
        {
         "name": "name",
         "rawType": "object",
         "type": "string"
        },
        {
         "name": "class",
         "rawType": "object",
         "type": "string"
        },
        {
         "name": "gender",
         "rawType": "object",
         "type": "string"
        },
        {
         "name": "start_date",
         "rawType": "datetime64[ns]",
         "type": "datetime"
        },
        {
         "name": "end_date",
         "rawType": "datetime64[ns]",
         "type": "datetime"
        },
        {
         "name": "campaign_id",
         "rawType": "object",
         "type": "string"
        },
        {
         "name": "is_deleted",
         "rawType": "int64",
         "type": "integer"
        },
        {
         "name": "class_name",
         "rawType": "object",
         "type": "string"
        },
        {
         "name": "price",
         "rawType": "int64",
         "type": "integer"
        },
        {
         "name": "campaign_name",
         "rawType": "object",
         "type": "string"
        },
        {
         "name": "mean_x",
         "rawType": "float64",
         "type": "float"
        },
        {
         "name": "median_x",
         "rawType": "float64",
         "type": "float"
        },
        {
         "name": "max_x",
         "rawType": "int64",
         "type": "integer"
        },
        {
         "name": "min_x",
         "rawType": "int64",
         "type": "integer"
        },
        {
         "name": "mean_y",
         "rawType": "float64",
         "type": "float"
        },
        {
         "name": "median_y",
         "rawType": "float64",
         "type": "float"
        },
        {
         "name": "max_y",
         "rawType": "int64",
         "type": "integer"
        },
        {
         "name": "min_y",
         "rawType": "int64",
         "type": "integer"
        },
        {
         "name": "mean",
         "rawType": "float64",
         "type": "float"
        },
        {
         "name": "median",
         "rawType": "float64",
         "type": "float"
        },
        {
         "name": "max",
         "rawType": "int64",
         "type": "integer"
        },
        {
         "name": "min",
         "rawType": "int64",
         "type": "integer"
        },
        {
         "name": "routine_flg",
         "rawType": "int64",
         "type": "integer"
        },
        {
         "name": "calc_date",
         "rawType": "datetime64[ns]",
         "type": "datetime"
        },
        {
         "name": "membership_period",
         "rawType": "int64",
         "type": "integer"
        }
       ],
       "conversionMethod": "pd.DataFrame",
       "ref": "521527a0-4b3e-4430-ab19-a747d775293d",
       "rows": [
        [
         "0",
         "OA832399",
         "XXXX",
         "C01",
         "F",
         "2015-05-01 00:00:00",
         null,
         "CA1",
         "0",
         "オールタイム",
         "10500",
         "通常",
         "4.833333333333333",
         "5.0",
         "8",
         "2",
         "4.833333333333333",
         "5.0",
         "8",
         "2",
         "4.833333333333333",
         "5.0",
         "8",
         "2",
         "1",
         "2019-04-30 00:00:00",
         "47"
        ],
        [
         "1",
         "PL270116",
         "XXXXX",
         "C01",
         "M",
         "2015-05-01 00:00:00",
         null,
         "CA1",
         "0",
         "オールタイム",
         "10500",
         "通常",
         "5.083333333333333",
         "5.0",
         "7",
         "3",
         "5.083333333333333",
         "5.0",
         "7",
         "3",
         "5.083333333333333",
         "5.0",
         "7",
         "3",
         "1",
         "2019-04-30 00:00:00",
         "47"
        ],
        [
         "2",
         "OA974876",
         "XXXXX",
         "C01",
         "M",
         "2015-05-01 00:00:00",
         null,
         "CA1",
         "0",
         "オールタイム",
         "10500",
         "通常",
         "4.583333333333333",
         "5.0",
         "6",
         "3",
         "4.583333333333333",
         "5.0",
         "6",
         "3",
         "4.583333333333333",
         "5.0",
         "6",
         "3",
         "1",
         "2019-04-30 00:00:00",
         "47"
        ],
        [
         "3",
         "HD024127",
         "XXXXX",
         "C01",
         "F",
         "2015-05-01 00:00:00",
         null,
         "CA1",
         "0",
         "オールタイム",
         "10500",
         "通常",
         "4.833333333333333",
         "4.5",
         "7",
         "2",
         "4.833333333333333",
         "4.5",
         "7",
         "2",
         "4.833333333333333",
         "4.5",
         "7",
         "2",
         "1",
         "2019-04-30 00:00:00",
         "47"
        ],
        [
         "4",
         "HD661448",
         "XXXXX",
         "C03",
         "F",
         "2015-05-01 00:00:00",
         null,
         "CA1",
         "0",
         "ナイト",
         "6000",
         "通常",
         "3.9166666666666665",
         "4.0",
         "6",
         "1",
         "3.9166666666666665",
         "4.0",
         "6",
         "1",
         "3.9166666666666665",
         "4.0",
         "6",
         "1",
         "1",
         "2019-04-30 00:00:00",
         "47"
        ]
       ],
       "shape": {
        "columns": 26,
        "rows": 5
       }
      },
      "text/html": [
       "<div>\n",
       "<style scoped>\n",
       "    .dataframe tbody tr th:only-of-type {\n",
       "        vertical-align: middle;\n",
       "    }\n",
       "\n",
       "    .dataframe tbody tr th {\n",
       "        vertical-align: top;\n",
       "    }\n",
       "\n",
       "    .dataframe thead th {\n",
       "        text-align: right;\n",
       "    }\n",
       "</style>\n",
       "<table border=\"1\" class=\"dataframe\">\n",
       "  <thead>\n",
       "    <tr style=\"text-align: right;\">\n",
       "      <th></th>\n",
       "      <th>customer_id</th>\n",
       "      <th>name</th>\n",
       "      <th>class</th>\n",
       "      <th>gender</th>\n",
       "      <th>start_date</th>\n",
       "      <th>end_date</th>\n",
       "      <th>campaign_id</th>\n",
       "      <th>is_deleted</th>\n",
       "      <th>class_name</th>\n",
       "      <th>price</th>\n",
       "      <th>...</th>\n",
       "      <th>median_y</th>\n",
       "      <th>max_y</th>\n",
       "      <th>min_y</th>\n",
       "      <th>mean</th>\n",
       "      <th>median</th>\n",
       "      <th>max</th>\n",
       "      <th>min</th>\n",
       "      <th>routine_flg</th>\n",
       "      <th>calc_date</th>\n",
       "      <th>membership_period</th>\n",
       "    </tr>\n",
       "  </thead>\n",
       "  <tbody>\n",
       "    <tr>\n",
       "      <th>0</th>\n",
       "      <td>OA832399</td>\n",
       "      <td>XXXX</td>\n",
       "      <td>C01</td>\n",
       "      <td>F</td>\n",
       "      <td>2015-05-01</td>\n",
       "      <td>NaT</td>\n",
       "      <td>CA1</td>\n",
       "      <td>0</td>\n",
       "      <td>オールタイム</td>\n",
       "      <td>10500</td>\n",
       "      <td>...</td>\n",
       "      <td>5.0</td>\n",
       "      <td>8</td>\n",
       "      <td>2</td>\n",
       "      <td>4.833333</td>\n",
       "      <td>5.0</td>\n",
       "      <td>8</td>\n",
       "      <td>2</td>\n",
       "      <td>1</td>\n",
       "      <td>2019-04-30</td>\n",
       "      <td>47</td>\n",
       "    </tr>\n",
       "    <tr>\n",
       "      <th>1</th>\n",
       "      <td>PL270116</td>\n",
       "      <td>XXXXX</td>\n",
       "      <td>C01</td>\n",
       "      <td>M</td>\n",
       "      <td>2015-05-01</td>\n",
       "      <td>NaT</td>\n",
       "      <td>CA1</td>\n",
       "      <td>0</td>\n",
       "      <td>オールタイム</td>\n",
       "      <td>10500</td>\n",
       "      <td>...</td>\n",
       "      <td>5.0</td>\n",
       "      <td>7</td>\n",
       "      <td>3</td>\n",
       "      <td>5.083333</td>\n",
       "      <td>5.0</td>\n",
       "      <td>7</td>\n",
       "      <td>3</td>\n",
       "      <td>1</td>\n",
       "      <td>2019-04-30</td>\n",
       "      <td>47</td>\n",
       "    </tr>\n",
       "    <tr>\n",
       "      <th>2</th>\n",
       "      <td>OA974876</td>\n",
       "      <td>XXXXX</td>\n",
       "      <td>C01</td>\n",
       "      <td>M</td>\n",
       "      <td>2015-05-01</td>\n",
       "      <td>NaT</td>\n",
       "      <td>CA1</td>\n",
       "      <td>0</td>\n",
       "      <td>オールタイム</td>\n",
       "      <td>10500</td>\n",
       "      <td>...</td>\n",
       "      <td>5.0</td>\n",
       "      <td>6</td>\n",
       "      <td>3</td>\n",
       "      <td>4.583333</td>\n",
       "      <td>5.0</td>\n",
       "      <td>6</td>\n",
       "      <td>3</td>\n",
       "      <td>1</td>\n",
       "      <td>2019-04-30</td>\n",
       "      <td>47</td>\n",
       "    </tr>\n",
       "    <tr>\n",
       "      <th>3</th>\n",
       "      <td>HD024127</td>\n",
       "      <td>XXXXX</td>\n",
       "      <td>C01</td>\n",
       "      <td>F</td>\n",
       "      <td>2015-05-01</td>\n",
       "      <td>NaT</td>\n",
       "      <td>CA1</td>\n",
       "      <td>0</td>\n",
       "      <td>オールタイム</td>\n",
       "      <td>10500</td>\n",
       "      <td>...</td>\n",
       "      <td>4.5</td>\n",
       "      <td>7</td>\n",
       "      <td>2</td>\n",
       "      <td>4.833333</td>\n",
       "      <td>4.5</td>\n",
       "      <td>7</td>\n",
       "      <td>2</td>\n",
       "      <td>1</td>\n",
       "      <td>2019-04-30</td>\n",
       "      <td>47</td>\n",
       "    </tr>\n",
       "    <tr>\n",
       "      <th>4</th>\n",
       "      <td>HD661448</td>\n",
       "      <td>XXXXX</td>\n",
       "      <td>C03</td>\n",
       "      <td>F</td>\n",
       "      <td>2015-05-01</td>\n",
       "      <td>NaT</td>\n",
       "      <td>CA1</td>\n",
       "      <td>0</td>\n",
       "      <td>ナイト</td>\n",
       "      <td>6000</td>\n",
       "      <td>...</td>\n",
       "      <td>4.0</td>\n",
       "      <td>6</td>\n",
       "      <td>1</td>\n",
       "      <td>3.916667</td>\n",
       "      <td>4.0</td>\n",
       "      <td>6</td>\n",
       "      <td>1</td>\n",
       "      <td>1</td>\n",
       "      <td>2019-04-30</td>\n",
       "      <td>47</td>\n",
       "    </tr>\n",
       "  </tbody>\n",
       "</table>\n",
       "<p>5 rows × 26 columns</p>\n",
       "</div>"
      ],
      "text/plain": [
       "  customer_id   name class gender start_date end_date campaign_id  is_deleted  \\\n",
       "0    OA832399   XXXX   C01      F 2015-05-01      NaT         CA1           0   \n",
       "1    PL270116  XXXXX   C01      M 2015-05-01      NaT         CA1           0   \n",
       "2    OA974876  XXXXX   C01      M 2015-05-01      NaT         CA1           0   \n",
       "3    HD024127  XXXXX   C01      F 2015-05-01      NaT         CA1           0   \n",
       "4    HD661448  XXXXX   C03      F 2015-05-01      NaT         CA1           0   \n",
       "\n",
       "  class_name  price  ... median_y  max_y  min_y      mean  median  max  min  \\\n",
       "0     オールタイム  10500  ...      5.0      8      2  4.833333     5.0    8    2   \n",
       "1     オールタイム  10500  ...      5.0      7      3  5.083333     5.0    7    3   \n",
       "2     オールタイム  10500  ...      5.0      6      3  4.583333     5.0    6    3   \n",
       "3     オールタイム  10500  ...      4.5      7      2  4.833333     4.5    7    2   \n",
       "4        ナイト   6000  ...      4.0      6      1  3.916667     4.0    6    1   \n",
       "\n",
       "   routine_flg  calc_date  membership_period  \n",
       "0            1 2019-04-30                 47  \n",
       "1            1 2019-04-30                 47  \n",
       "2            1 2019-04-30                 47  \n",
       "3            1 2019-04-30                 47  \n",
       "4            1 2019-04-30                 47  \n",
       "\n",
       "[5 rows x 26 columns]"
      ]
     },
     "execution_count": 30,
     "metadata": {},
     "output_type": "execute_result"
    }
   ],
   "source": [
    "from dateutil.relativedelta import relativedelta # 日付の差分を計算するためにdateutil.relativedeltaをインポート\n",
    "\n",
    "customer_join[\"calc_date\"] = customer_join[\"end_date\"] # 終了日を基準にする\n",
    "customer_join[\"calc_date\"] = customer_join[\"calc_date\"].fillna(pd.to_datetime(\"20190430\")) # 終了日がNaTの会員は2019年4月30日を基準にする\n",
    "customer_join[\"membership_period\"] = 0 # 会員期間を初期化\n",
    "\n",
    "for i in range(len(customer_join)):\n",
    "    delta = relativedelta(customer_join[\"calc_date\"].iloc[i], customer_join[\"start_date\"].iloc[i]) # 開始日と終了日の差分を計算\n",
    "    customer_join.loc[i, \"membership_period\"] = delta.years * 12 + delta.months # 年数と月数を合計して会員期間を計算\n",
    "\n",
    "customer_join.head() # 会員期間を計算したデータの確認"
   ]
  },
  {
   "cell_type": "markdown",
   "id": "0fccef56",
   "metadata": {},
   "source": [
    "このコードは、顧客データ（`customer_join`）に対して「会員期間（月数）」を計算する処理を行っています。以下に各行の処理をわかりやすく説明します。\n",
    "\n",
    "---\n",
    "\n",
    "### 1. 必要なライブラリのインポート\n",
    "```python\n",
    "from dateutil.relativedelta import relativedelta\n",
    "```\n",
    "- `relativedelta` は、2つの日付の差分を「年」「月」「日」単位で計算するためのライブラリです。\n",
    "\n",
    "---\n",
    "\n",
    "### 2. 終了日を基準にする\n",
    "```python\n",
    "customer_join[\"calc_date\"] = customer_join[\"end_date\"]\n",
    "```\n",
    "- 顧客データの終了日（`end_date`）を新しい列 `calc_date` にコピーします。\n",
    "- `calc_date` は、会員期間を計算する際の基準日として使用されます。\n",
    "\n",
    "---\n",
    "\n",
    "### 3. 終了日が欠損値（NaT）の場合の処理\n",
    "```python\n",
    "customer_join[\"calc_date\"] = customer_join[\"calc_date\"].fillna(pd.to_datetime(\"20190430\"))\n",
    "```\n",
    "- `calc_date` 列に欠損値（NaT）がある場合、それを「2019年4月30日」に置き換えます。\n",
    "- これは、退会日が記録されていない（まだ退会していない）顧客の会員期間を計算するための処理です。\n",
    "\n",
    "---\n",
    "\n",
    "### 4. 会員期間列の初期化\n",
    "```python\n",
    "customer_join[\"membership_period\"] = 0\n",
    "```\n",
    "- 新しい列 `membership_period` を作成し、初期値としてすべての行に `0` を設定します。\n",
    "- この列に、後で計算した会員期間（月数）を格納します。\n",
    "\n",
    "---\n",
    "\n",
    "### 5. 会員期間の計算\n",
    "```python\n",
    "for i in range(len(customer_join)):\n",
    "    delta = relativedelta(customer_join[\"calc_date\"].iloc[i], customer_join[\"start_date\"].iloc[i])\n",
    "    customer_join.loc[i, \"membership_period\"] = delta.years * 12 + delta.months\n",
    "```\n",
    "- `for` ループを使用して、各顧客の会員期間を計算します。\n",
    "  1. `relativedelta` を使って、終了日（`calc_date`）と開始日（`start_date`）の差分を計算します。\n",
    "     - 差分は「年」「月」「日」単位で取得されます。\n",
    "  2. 差分の「年数」を月数に変換し（`delta.years * 12`）、差分の「月数」と合計します。\n",
    "     - これにより、会員期間が「月数」で計算されます。\n",
    "  3. 計算結果を `membership_period` 列に格納します。\n",
    "\n",
    "---\n",
    "\n",
    "### 6. 計算結果の確認\n",
    "```python\n",
    "customer_join.head()\n",
    "```\n",
    "- 処理結果の先頭5行を表示して、計算が正しく行われたかを確認します。\n",
    "\n",
    "---\n",
    "\n",
    "### 全体の流れ\n",
    "1. 終了日（`end_date`）を基準日（`calc_date`）として設定。\n",
    "2. 終了日が欠損している場合は「2019年4月30日」に置き換え。\n",
    "3. 各顧客の開始日（`start_date`）と基準日（`calc_date`）の差分を計算。\n",
    "4. 差分を月数に変換して、会員期間（`membership_period`）として保存。\n",
    "5. 計算結果を確認。\n",
    "\n",
    "このコードにより、各顧客の会員期間（月数）が計算され、データフレームに追加されます。"
   ]
  },
  {
   "cell_type": "markdown",
   "id": "1f014d5a",
   "metadata": {},
   "source": [
    "## [29]: 顧客行動の各種統計量を把握する"
   ]
  },
  {
   "cell_type": "code",
   "execution_count": 32,
   "id": "e28bcec4",
   "metadata": {},
   "outputs": [
    {
     "data": {
      "application/vnd.microsoft.datawrangler.viewer.v0+json": {
       "columns": [
        {
         "name": "index",
         "rawType": "object",
         "type": "string"
        },
        {
         "name": "mean",
         "rawType": "float64",
         "type": "float"
        },
        {
         "name": "median",
         "rawType": "float64",
         "type": "float"
        },
        {
         "name": "max",
         "rawType": "float64",
         "type": "float"
        },
        {
         "name": "min",
         "rawType": "float64",
         "type": "float"
        }
       ],
       "conversionMethod": "pd.DataFrame",
       "ref": "6a8722aa-d5c2-4659-9e4d-a74c04589dfc",
       "rows": [
        [
         "count",
         "4192.0",
         "4192.0",
         "4192.0",
         "4192.0"
        ],
        [
         "mean",
         "5.333126977586662",
         "5.250596374045801",
         "7.823950381679389",
         "3.041269083969466"
        ],
        [
         "std",
         "1.7775332334996437",
         "1.8748736382499618",
         "2.1689593094854556",
         "1.951564566895601"
        ],
        [
         "min",
         "1.0",
         "1.0",
         "1.0",
         "1.0"
        ],
        [
         "25%",
         "4.25",
         "4.0",
         "7.0",
         "2.0"
        ],
        [
         "50%",
         "5.0",
         "5.0",
         "8.0",
         "3.0"
        ],
        [
         "75%",
         "6.416666666666667",
         "6.5",
         "9.0",
         "4.0"
        ],
        [
         "max",
         "12.0",
         "12.0",
         "14.0",
         "12.0"
        ]
       ],
       "shape": {
        "columns": 4,
        "rows": 8
       }
      },
      "text/html": [
       "<div>\n",
       "<style scoped>\n",
       "    .dataframe tbody tr th:only-of-type {\n",
       "        vertical-align: middle;\n",
       "    }\n",
       "\n",
       "    .dataframe tbody tr th {\n",
       "        vertical-align: top;\n",
       "    }\n",
       "\n",
       "    .dataframe thead th {\n",
       "        text-align: right;\n",
       "    }\n",
       "</style>\n",
       "<table border=\"1\" class=\"dataframe\">\n",
       "  <thead>\n",
       "    <tr style=\"text-align: right;\">\n",
       "      <th></th>\n",
       "      <th>mean</th>\n",
       "      <th>median</th>\n",
       "      <th>max</th>\n",
       "      <th>min</th>\n",
       "    </tr>\n",
       "  </thead>\n",
       "  <tbody>\n",
       "    <tr>\n",
       "      <th>count</th>\n",
       "      <td>4192.000000</td>\n",
       "      <td>4192.000000</td>\n",
       "      <td>4192.000000</td>\n",
       "      <td>4192.000000</td>\n",
       "    </tr>\n",
       "    <tr>\n",
       "      <th>mean</th>\n",
       "      <td>5.333127</td>\n",
       "      <td>5.250596</td>\n",
       "      <td>7.823950</td>\n",
       "      <td>3.041269</td>\n",
       "    </tr>\n",
       "    <tr>\n",
       "      <th>std</th>\n",
       "      <td>1.777533</td>\n",
       "      <td>1.874874</td>\n",
       "      <td>2.168959</td>\n",
       "      <td>1.951565</td>\n",
       "    </tr>\n",
       "    <tr>\n",
       "      <th>min</th>\n",
       "      <td>1.000000</td>\n",
       "      <td>1.000000</td>\n",
       "      <td>1.000000</td>\n",
       "      <td>1.000000</td>\n",
       "    </tr>\n",
       "    <tr>\n",
       "      <th>25%</th>\n",
       "      <td>4.250000</td>\n",
       "      <td>4.000000</td>\n",
       "      <td>7.000000</td>\n",
       "      <td>2.000000</td>\n",
       "    </tr>\n",
       "    <tr>\n",
       "      <th>50%</th>\n",
       "      <td>5.000000</td>\n",
       "      <td>5.000000</td>\n",
       "      <td>8.000000</td>\n",
       "      <td>3.000000</td>\n",
       "    </tr>\n",
       "    <tr>\n",
       "      <th>75%</th>\n",
       "      <td>6.416667</td>\n",
       "      <td>6.500000</td>\n",
       "      <td>9.000000</td>\n",
       "      <td>4.000000</td>\n",
       "    </tr>\n",
       "    <tr>\n",
       "      <th>max</th>\n",
       "      <td>12.000000</td>\n",
       "      <td>12.000000</td>\n",
       "      <td>14.000000</td>\n",
       "      <td>12.000000</td>\n",
       "    </tr>\n",
       "  </tbody>\n",
       "</table>\n",
       "</div>"
      ],
      "text/plain": [
       "              mean       median          max          min\n",
       "count  4192.000000  4192.000000  4192.000000  4192.000000\n",
       "mean      5.333127     5.250596     7.823950     3.041269\n",
       "std       1.777533     1.874874     2.168959     1.951565\n",
       "min       1.000000     1.000000     1.000000     1.000000\n",
       "25%       4.250000     4.000000     7.000000     2.000000\n",
       "50%       5.000000     5.000000     8.000000     3.000000\n",
       "75%       6.416667     6.500000     9.000000     4.000000\n",
       "max      12.000000    12.000000    14.000000    12.000000"
      ]
     },
     "execution_count": 32,
     "metadata": {},
     "output_type": "execute_result"
    }
   ],
   "source": [
    "customer_join[[\"mean\", \"median\", \"max\", \"min\"]].describe() # 利用回数の統計量を確認"
   ]
  },
  {
   "cell_type": "code",
   "execution_count": 33,
   "id": "95cea603",
   "metadata": {},
   "outputs": [
    {
     "data": {
      "text/plain": [
       "routine_flg\n",
       "0     779\n",
       "1    3413\n",
       "Name: customer_id, dtype: int64"
      ]
     },
     "execution_count": 33,
     "metadata": {},
     "output_type": "execute_result"
    }
   ],
   "source": [
    "customer_join.groupby(\"routine_flg\").count()[\"customer_id\"] # 曜日ごとの平均利用回数のフラグを集計"
   ]
  },
  {
   "cell_type": "code",
   "execution_count": 34,
   "id": "90471936",
   "metadata": {},
   "outputs": [
    {
     "data": {
      "text/plain": [
       "(array([857., 774., 395., 368., 311., 331., 323., 237., 288., 308.]),\n",
       " array([ 1. ,  5.6, 10.2, 14.8, 19.4, 24. , 28.6, 33.2, 37.8, 42.4, 47. ]),\n",
       " <BarContainer object of 10 artists>)"
      ]
     },
     "execution_count": 34,
     "metadata": {},
     "output_type": "execute_result"
    },
    {
     "data": {
      "image/png": "[encoded data removed]",
      "text/plain": [
       "<Figure size 640x480 with 1 Axes>"
      ]
     },
     "metadata": {},
     "output_type": "display_data"
    }
   ],
   "source": [
    "import matplotlib.pyplot as plt # グラフ描画のためにmatplotlib.pyplotをインポート\n",
    "\n",
    "plt.hist(customer_join[\"membership_period\"]) # 会員期間のヒストグラムを描画"
   ]
  },
  {
   "cell_type": "markdown",
   "id": "c539e1d4",
   "metadata": {},
   "source": [
    "## [30]: 退会ユーザーと継続ユーザーの違いを把握する"
   ]
  },
  {
   "cell_type": "code",
   "execution_count": 35,
   "id": "dd33b1b0",
   "metadata": {},
   "outputs": [
    {
     "data": {
      "application/vnd.microsoft.datawrangler.viewer.v0+json": {
       "columns": [
        {
         "name": "index",
         "rawType": "object",
         "type": "string"
        },
        {
         "name": "start_date",
         "rawType": "object",
         "type": "unknown"
        },
        {
         "name": "end_date",
         "rawType": "object",
         "type": "unknown"
        },
        {
         "name": "is_deleted",
         "rawType": "float64",
         "type": "float"
        },
        {
         "name": "price",
         "rawType": "float64",
         "type": "float"
        },
        {
         "name": "mean_x",
         "rawType": "float64",
         "type": "float"
        },
        {
         "name": "median_x",
         "rawType": "float64",
         "type": "float"
        },
        {
         "name": "max_x",
         "rawType": "float64",
         "type": "float"
        },
        {
         "name": "min_x",
         "rawType": "float64",
         "type": "float"
        },
        {
         "name": "mean_y",
         "rawType": "float64",
         "type": "float"
        },
        {
         "name": "median_y",
         "rawType": "float64",
         "type": "float"
        },
        {
         "name": "max_y",
         "rawType": "float64",
         "type": "float"
        },
        {
         "name": "min_y",
         "rawType": "float64",
         "type": "float"
        },
        {
         "name": "mean",
         "rawType": "float64",
         "type": "float"
        },
        {
         "name": "median",
         "rawType": "float64",
         "type": "float"
        },
        {
         "name": "max",
         "rawType": "float64",
         "type": "float"
        },
        {
         "name": "min",
         "rawType": "float64",
         "type": "float"
        },
        {
         "name": "routine_flg",
         "rawType": "float64",
         "type": "float"
        },
        {
         "name": "calc_date",
         "rawType": "object",
         "type": "unknown"
        },
        {
         "name": "membership_period",
         "rawType": "float64",
         "type": "float"
        }
       ],
       "conversionMethod": "pd.DataFrame",
       "ref": "82922585-be38-4a9c-8f2e-4c46db157242",
       "rows": [
        [
         "count",
         "1350",
         "1350",
         "1350.0",
         "1350.0",
         "1350.0",
         "1350.0",
         "1350.0",
         "1350.0",
         "1350.0",
         "1350.0",
         "1350.0",
         "1350.0",
         "1350.0",
         "1350.0",
         "1350.0",
         "1350.0",
         "1350.0",
         "1350",
         "1350.0"
        ],
        [
         "mean",
         "2018-01-20 10:45:20",
         "2018-10-17 16:23:28",
         "1.0",
         "8595.555555555555",
         "3.8654737053070387",
         "3.6218518518518517",
         "6.461481481481481",
         "1.8214814814814815",
         "3.8654737053070387",
         "3.6218518518518517",
         "6.461481481481481",
         "1.8214814814814815",
         "3.8654737053070387",
         "3.6218518518518517",
         "6.461481481481481",
         "1.8214814814814815",
         "0.4562962962962963",
         "2018-10-17 16:23:28",
         "8.026666666666667"
        ],
        [
         "min",
         "2016-05-01 00:00:00",
         "2018-04-30 00:00:00",
         "1.0",
         "6000.0",
         "1.0",
         "1.0",
         "1.0",
         "1.0",
         "1.0",
         "1.0",
         "1.0",
         "1.0",
         "1.0",
         "1.0",
         "1.0",
         "1.0",
         "0.0",
         "2018-04-30 00:00:00",
         "1.0"
        ],
        [
         "25%",
         "2017-10-01 00:00:00",
         "2018-06-30 00:00:00",
         "1.0",
         "6000.0",
         "3.0",
         "3.0",
         "4.0",
         "1.0",
         "3.0",
         "3.0",
         "4.0",
         "1.0",
         "3.0",
         "3.0",
         "4.0",
         "1.0",
         "0.0",
         "2018-06-30 00:00:00",
         "4.0"
        ],
        [
         "50%",
         "2018-03-01 00:00:00",
         "2018-10-31 00:00:00",
         "1.0",
         "7500.0",
         "4.0",
         "4.0",
         "7.0",
         "2.0",
         "4.0",
         "4.0",
         "7.0",
         "2.0",
         "4.0",
         "4.0",
         "7.0",
         "2.0",
         "0.0",
         "2018-10-31 00:00:00",
         "7.0"
        ],
        [
         "75%",
         "2018-06-03 00:00:00",
         "2019-01-31 00:00:00",
         "1.0",
         "10500.0",
         "4.666666666666667",
         "4.5",
         "8.0",
         "2.0",
         "4.666666666666667",
         "4.5",
         "8.0",
         "2.0",
         "4.666666666666667",
         "4.5",
         "8.0",
         "2.0",
         "1.0",
         "2019-01-31 00:00:00",
         "11.0"
        ],
        [
         "max",
         "2019-02-11 00:00:00",
         "2019-03-31 00:00:00",
         "1.0",
         "10500.0",
         "9.0",
         "9.0",
         "13.0",
         "8.0",
         "9.0",
         "9.0",
         "13.0",
         "8.0",
         "9.0",
         "9.0",
         "13.0",
         "8.0",
         "1.0",
         "2019-03-31 00:00:00",
         "23.0"
        ],
        [
         "std",
         null,
         null,
         "0.0",
         "1949.1636520380964",
         "1.2463854246394106",
         "1.270847026530297",
         "2.584021299521409",
         "0.9763614687174133",
         "1.2463854246394106",
         "1.270847026530297",
         "2.584021299521409",
         "0.9763614687174133",
         "1.2463854246394106",
         "1.270847026530297",
         "2.584021299521409",
         "0.9763614687174133",
         "0.49827090309377875",
         null,
         "5.033692265187439"
        ]
       ],
       "shape": {
        "columns": 19,
        "rows": 8
       }
      },
      "text/html": [
       "<div>\n",
       "<style scoped>\n",
       "    .dataframe tbody tr th:only-of-type {\n",
       "        vertical-align: middle;\n",
       "    }\n",
       "\n",
       "    .dataframe tbody tr th {\n",
       "        vertical-align: top;\n",
       "    }\n",
       "\n",
       "    .dataframe thead th {\n",
       "        text-align: right;\n",
       "    }\n",
       "</style>\n",
       "<table border=\"1\" class=\"dataframe\">\n",
       "  <thead>\n",
       "    <tr style=\"text-align: right;\">\n",
       "      <th></th>\n",
       "      <th>start_date</th>\n",
       "      <th>end_date</th>\n",
       "      <th>is_deleted</th>\n",
       "      <th>price</th>\n",
       "      <th>mean_x</th>\n",
       "      <th>median_x</th>\n",
       "      <th>max_x</th>\n",
       "      <th>min_x</th>\n",
       "      <th>mean_y</th>\n",
       "      <th>median_y</th>\n",
       "      <th>max_y</th>\n",
       "      <th>min_y</th>\n",
       "      <th>mean</th>\n",
       "      <th>median</th>\n",
       "      <th>max</th>\n",
       "      <th>min</th>\n",
       "      <th>routine_flg</th>\n",
       "      <th>calc_date</th>\n",
       "      <th>membership_period</th>\n",
       "    </tr>\n",
       "  </thead>\n",
       "  <tbody>\n",
       "    <tr>\n",
       "      <th>count</th>\n",
       "      <td>1350</td>\n",
       "      <td>1350</td>\n",
       "      <td>1350.0</td>\n",
       "      <td>1350.000000</td>\n",
       "      <td>1350.000000</td>\n",
       "      <td>1350.000000</td>\n",
       "      <td>1350.000000</td>\n",
       "      <td>1350.000000</td>\n",
       "      <td>1350.000000</td>\n",
       "      <td>1350.000000</td>\n",
       "      <td>1350.000000</td>\n",
       "      <td>1350.000000</td>\n",
       "      <td>1350.000000</td>\n",
       "      <td>1350.000000</td>\n",
       "      <td>1350.000000</td>\n",
       "      <td>1350.000000</td>\n",
       "      <td>1350.000000</td>\n",
       "      <td>1350</td>\n",
       "      <td>1350.000000</td>\n",
       "    </tr>\n",
       "    <tr>\n",
       "      <th>mean</th>\n",
       "      <td>2018-01-20 10:45:20</td>\n",
       "      <td>2018-10-17 16:23:28</td>\n",
       "      <td>1.0</td>\n",
       "      <td>8595.555556</td>\n",
       "      <td>3.865474</td>\n",
       "      <td>3.621852</td>\n",
       "      <td>6.461481</td>\n",
       "      <td>1.821481</td>\n",
       "      <td>3.865474</td>\n",
       "      <td>3.621852</td>\n",
       "      <td>6.461481</td>\n",
       "      <td>1.821481</td>\n",
       "      <td>3.865474</td>\n",
       "      <td>3.621852</td>\n",
       "      <td>6.461481</td>\n",
       "      <td>1.821481</td>\n",
       "      <td>0.456296</td>\n",
       "      <td>2018-10-17 16:23:28</td>\n",
       "      <td>8.026667</td>\n",
       "    </tr>\n",
       "    <tr>\n",
       "      <th>min</th>\n",
       "      <td>2016-05-01 00:00:00</td>\n",
       "      <td>2018-04-30 00:00:00</td>\n",
       "      <td>1.0</td>\n",
       "      <td>6000.000000</td>\n",
       "      <td>1.000000</td>\n",
       "      <td>1.000000</td>\n",
       "      <td>1.000000</td>\n",
       "      <td>1.000000</td>\n",
       "      <td>1.000000</td>\n",
       "      <td>1.000000</td>\n",
       "      <td>1.000000</td>\n",
       "      <td>1.000000</td>\n",
       "      <td>1.000000</td>\n",
       "      <td>1.000000</td>\n",
       "      <td>1.000000</td>\n",
       "      <td>1.000000</td>\n",
       "      <td>0.000000</td>\n",
       "      <td>2018-04-30 00:00:00</td>\n",
       "      <td>1.000000</td>\n",
       "    </tr>\n",
       "    <tr>\n",
       "      <th>25%</th>\n",
       "      <td>2017-10-01 00:00:00</td>\n",
       "      <td>2018-06-30 00:00:00</td>\n",
       "      <td>1.0</td>\n",
       "      <td>6000.000000</td>\n",
       "      <td>3.000000</td>\n",
       "      <td>3.000000</td>\n",
       "      <td>4.000000</td>\n",
       "      <td>1.000000</td>\n",
       "      <td>3.000000</td>\n",
       "      <td>3.000000</td>\n",
       "      <td>4.000000</td>\n",
       "      <td>1.000000</td>\n",
       "      <td>3.000000</td>\n",
       "      <td>3.000000</td>\n",
       "      <td>4.000000</td>\n",
       "      <td>1.000000</td>\n",
       "      <td>0.000000</td>\n",
       "      <td>2018-06-30 00:00:00</td>\n",
       "      <td>4.000000</td>\n",
       "    </tr>\n",
       "    <tr>\n",
       "      <th>50%</th>\n",
       "      <td>2018-03-01 00:00:00</td>\n",
       "      <td>2018-10-31 00:00:00</td>\n",
       "      <td>1.0</td>\n",
       "      <td>7500.000000</td>\n",
       "      <td>4.000000</td>\n",
       "      <td>4.000000</td>\n",
       "      <td>7.000000</td>\n",
       "      <td>2.000000</td>\n",
       "      <td>4.000000</td>\n",
       "      <td>4.000000</td>\n",
       "      <td>7.000000</td>\n",
       "      <td>2.000000</td>\n",
       "      <td>4.000000</td>\n",
       "      <td>4.000000</td>\n",
       "      <td>7.000000</td>\n",
       "      <td>2.000000</td>\n",
       "      <td>0.000000</td>\n",
       "      <td>2018-10-31 00:00:00</td>\n",
       "      <td>7.000000</td>\n",
       "    </tr>\n",
       "    <tr>\n",
       "      <th>75%</th>\n",
       "      <td>2018-06-03 00:00:00</td>\n",
       "      <td>2019-01-31 00:00:00</td>\n",
       "      <td>1.0</td>\n",
       "      <td>10500.000000</td>\n",
       "      <td>4.666667</td>\n",
       "      <td>4.500000</td>\n",
       "      <td>8.000000</td>\n",
       "      <td>2.000000</td>\n",
       "      <td>4.666667</td>\n",
       "      <td>4.500000</td>\n",
       "      <td>8.000000</td>\n",
       "      <td>2.000000</td>\n",
       "      <td>4.666667</td>\n",
       "      <td>4.500000</td>\n",
       "      <td>8.000000</td>\n",
       "      <td>2.000000</td>\n",
       "      <td>1.000000</td>\n",
       "      <td>2019-01-31 00:00:00</td>\n",
       "      <td>11.000000</td>\n",
       "    </tr>\n",
       "    <tr>\n",
       "      <th>max</th>\n",
       "      <td>2019-02-11 00:00:00</td>\n",
       "      <td>2019-03-31 00:00:00</td>\n",
       "      <td>1.0</td>\n",
       "      <td>10500.000000</td>\n",
       "      <td>9.000000</td>\n",
       "      <td>9.000000</td>\n",
       "      <td>13.000000</td>\n",
       "      <td>8.000000</td>\n",
       "      <td>9.000000</td>\n",
       "      <td>9.000000</td>\n",
       "      <td>13.000000</td>\n",
       "      <td>8.000000</td>\n",
       "      <td>9.000000</td>\n",
       "      <td>9.000000</td>\n",
       "      <td>13.000000</td>\n",
       "      <td>8.000000</td>\n",
       "      <td>1.000000</td>\n",
       "      <td>2019-03-31 00:00:00</td>\n",
       "      <td>23.000000</td>\n",
       "    </tr>\n",
       "    <tr>\n",
       "      <th>std</th>\n",
       "      <td>NaN</td>\n",
       "      <td>NaN</td>\n",
       "      <td>0.0</td>\n",
       "      <td>1949.163652</td>\n",
       "      <td>1.246385</td>\n",
       "      <td>1.270847</td>\n",
       "      <td>2.584021</td>\n",
       "      <td>0.976361</td>\n",
       "      <td>1.246385</td>\n",
       "      <td>1.270847</td>\n",
       "      <td>2.584021</td>\n",
       "      <td>0.976361</td>\n",
       "      <td>1.246385</td>\n",
       "      <td>1.270847</td>\n",
       "      <td>2.584021</td>\n",
       "      <td>0.976361</td>\n",
       "      <td>0.498271</td>\n",
       "      <td>NaN</td>\n",
       "      <td>5.033692</td>\n",
       "    </tr>\n",
       "  </tbody>\n",
       "</table>\n",
       "</div>"
      ],
      "text/plain": [
       "                start_date             end_date  is_deleted         price  \\\n",
       "count                 1350                 1350      1350.0   1350.000000   \n",
       "mean   2018-01-20 10:45:20  2018-10-17 16:23:28         1.0   8595.555556   \n",
       "min    2016-05-01 00:00:00  2018-04-30 00:00:00         1.0   6000.000000   \n",
       "25%    2017-10-01 00:00:00  2018-06-30 00:00:00         1.0   6000.000000   \n",
       "50%    2018-03-01 00:00:00  2018-10-31 00:00:00         1.0   7500.000000   \n",
       "75%    2018-06-03 00:00:00  2019-01-31 00:00:00         1.0  10500.000000   \n",
       "max    2019-02-11 00:00:00  2019-03-31 00:00:00         1.0  10500.000000   \n",
       "std                    NaN                  NaN         0.0   1949.163652   \n",
       "\n",
       "            mean_x     median_x        max_x        min_x       mean_y  \\\n",
       "count  1350.000000  1350.000000  1350.000000  1350.000000  1350.000000   \n",
       "mean      3.865474     3.621852     6.461481     1.821481     3.865474   \n",
       "min       1.000000     1.000000     1.000000     1.000000     1.000000   \n",
       "25%       3.000000     3.000000     4.000000     1.000000     3.000000   \n",
       "50%       4.000000     4.000000     7.000000     2.000000     4.000000   \n",
       "75%       4.666667     4.500000     8.000000     2.000000     4.666667   \n",
       "max       9.000000     9.000000    13.000000     8.000000     9.000000   \n",
       "std       1.246385     1.270847     2.584021     0.976361     1.246385   \n",
       "\n",
       "          median_y        max_y        min_y         mean       median  \\\n",
       "count  1350.000000  1350.000000  1350.000000  1350.000000  1350.000000   \n",
       "mean      3.621852     6.461481     1.821481     3.865474     3.621852   \n",
       "min       1.000000     1.000000     1.000000     1.000000     1.000000   \n",
       "25%       3.000000     4.000000     1.000000     3.000000     3.000000   \n",
       "50%       4.000000     7.000000     2.000000     4.000000     4.000000   \n",
       "75%       4.500000     8.000000     2.000000     4.666667     4.500000   \n",
       "max       9.000000    13.000000     8.000000     9.000000     9.000000   \n",
       "std       1.270847     2.584021     0.976361     1.246385     1.270847   \n",
       "\n",
       "               max          min  routine_flg            calc_date  \\\n",
       "count  1350.000000  1350.000000  1350.000000                 1350   \n",
       "mean      6.461481     1.821481     0.456296  2018-10-17 16:23:28   \n",
       "min       1.000000     1.000000     0.000000  2018-04-30 00:00:00   \n",
       "25%       4.000000     1.000000     0.000000  2018-06-30 00:00:00   \n",
       "50%       7.000000     2.000000     0.000000  2018-10-31 00:00:00   \n",
       "75%       8.000000     2.000000     1.000000  2019-01-31 00:00:00   \n",
       "max      13.000000     8.000000     1.000000  2019-03-31 00:00:00   \n",
       "std       2.584021     0.976361     0.498271                  NaN   \n",
       "\n",
       "       membership_period  \n",
       "count        1350.000000  \n",
       "mean            8.026667  \n",
       "min             1.000000  \n",
       "25%             4.000000  \n",
       "50%             7.000000  \n",
       "75%            11.000000  \n",
       "max            23.000000  \n",
       "std             5.033692  "
      ]
     },
     "execution_count": 35,
     "metadata": {},
     "output_type": "execute_result"
    }
   ],
   "source": [
    "customer_end = customer_join.loc[customer_join[\"is_deleted\"] == 1] # 退会ユーザーを抽出\n",
    "customer_end.describe() # 退会ユーザーの統計量を確認"
   ]
  },
  {
   "cell_type": "code",
   "execution_count": 37,
   "id": "53c5cbb7",
   "metadata": {},
   "outputs": [
    {
     "data": {
      "application/vnd.microsoft.datawrangler.viewer.v0+json": {
       "columns": [
        {
         "name": "index",
         "rawType": "object",
         "type": "string"
        },
        {
         "name": "start_date",
         "rawType": "object",
         "type": "unknown"
        },
        {
         "name": "end_date",
         "rawType": "object",
         "type": "unknown"
        },
        {
         "name": "is_deleted",
         "rawType": "float64",
         "type": "float"
        },
        {
         "name": "price",
         "rawType": "float64",
         "type": "float"
        },
        {
         "name": "mean_x",
         "rawType": "float64",
         "type": "float"
        },
        {
         "name": "median_x",
         "rawType": "float64",
         "type": "float"
        },
        {
         "name": "max_x",
         "rawType": "float64",
         "type": "float"
        },
        {
         "name": "min_x",
         "rawType": "float64",
         "type": "float"
        },
        {
         "name": "mean_y",
         "rawType": "float64",
         "type": "float"
        },
        {
         "name": "median_y",
         "rawType": "float64",
         "type": "float"
        },
        {
         "name": "max_y",
         "rawType": "float64",
         "type": "float"
        },
        {
         "name": "min_y",
         "rawType": "float64",
         "type": "float"
        },
        {
         "name": "mean",
         "rawType": "float64",
         "type": "float"
        },
        {
         "name": "median",
         "rawType": "float64",
         "type": "float"
        },
        {
         "name": "max",
         "rawType": "float64",
         "type": "float"
        },
        {
         "name": "min",
         "rawType": "float64",
         "type": "float"
        },
        {
         "name": "routine_flg",
         "rawType": "float64",
         "type": "float"
        },
        {
         "name": "calc_date",
         "rawType": "object",
         "type": "unknown"
        },
        {
         "name": "membership_period",
         "rawType": "float64",
         "type": "float"
        }
       ],
       "conversionMethod": "pd.DataFrame",
       "ref": "6dae1031-dc17-42ab-8050-09b2329bebe9",
       "rows": [
        [
         "count",
         "2842",
         "0",
         "2842.0",
         "2842.0",
         "2842.0",
         "2842.0",
         "2842.0",
         "2842.0",
         "2842.0",
         "2842.0",
         "2842.0",
         "2842.0",
         "2842.0",
         "2842.0",
         "2842.0",
         "2842.0",
         "2842.0",
         "2842",
         "2842.0"
        ],
        [
         "mean",
         "2017-04-03 22:42:28.627726848",
         null,
         "0.0",
         "8542.92751583392",
         "6.030288102701896",
         "6.024278676988037",
         "8.471147079521463",
         "3.6206896551724137",
         "6.030288102701896",
         "6.024278676988037",
         "8.471147079521463",
         "3.6206896551724137",
         "6.030288102701896",
         "6.024278676988037",
         "8.471147079521463",
         "3.6206896551724137",
         "0.9841660802251935",
         "2019-04-30 00:00:00",
         "23.970443349753694"
        ],
        [
         "min",
         "2015-05-01 00:00:00",
         null,
         "0.0",
         "6000.0",
         "3.1666666666666665",
         "3.0",
         "5.0",
         "1.0",
         "3.1666666666666665",
         "3.0",
         "5.0",
         "1.0",
         "3.1666666666666665",
         "3.0",
         "5.0",
         "1.0",
         "0.0",
         "2019-04-30 00:00:00",
         "1.0"
        ],
        [
         "25%",
         "2016-05-01 00:00:00",
         null,
         "0.0",
         "6000.0",
         "4.833333333333333",
         "5.0",
         "7.0",
         "2.0",
         "4.833333333333333",
         "5.0",
         "7.0",
         "2.0",
         "4.833333333333333",
         "5.0",
         "7.0",
         "2.0",
         "1.0",
         "2019-04-30 00:00:00",
         "12.0"
        ],
        [
         "50%",
         "2017-04-01 00:00:00",
         null,
         "0.0",
         "7500.0",
         "5.583333333333333",
         "5.5",
         "8.0",
         "3.0",
         "5.583333333333333",
         "5.5",
         "8.0",
         "3.0",
         "5.583333333333333",
         "5.5",
         "8.0",
         "3.0",
         "1.0",
         "2019-04-30 00:00:00",
         "24.0"
        ],
        [
         "75%",
         "2018-04-05 00:00:00",
         null,
         "0.0",
         "10500.0",
         "7.178030303030303",
         "7.0",
         "10.0",
         "5.0",
         "7.178030303030303",
         "7.0",
         "10.0",
         "5.0",
         "7.178030303030303",
         "7.0",
         "10.0",
         "5.0",
         "1.0",
         "2019-04-30 00:00:00",
         "35.0"
        ],
        [
         "max",
         "2019-03-15 00:00:00",
         null,
         "0.0",
         "10500.0",
         "12.0",
         "12.0",
         "14.0",
         "12.0",
         "12.0",
         "12.0",
         "14.0",
         "12.0",
         "12.0",
         "12.0",
         "14.0",
         "12.0",
         "1.0",
         "2019-04-30 00:00:00",
         "47.0"
        ],
        [
         "std",
         null,
         null,
         "0.0",
         "1977.1897794138188",
         "1.5535869877828539",
         "1.5997651151165164",
         "1.5710481237545457",
         "2.030487744759296",
         "1.5535869877828539",
         "1.5997651151165164",
         "1.5710481237545457",
         "2.030487744759296",
         "1.5535869877828539",
         "1.5997651151165164",
         "1.5710481237545457",
         "2.030487744759296",
         "0.12485468302241265",
         null,
         "13.746760742777774"
        ]
       ],
       "shape": {
        "columns": 19,
        "rows": 8
       }
      },
      "text/html": [
       "<div>\n",
       "<style scoped>\n",
       "    .dataframe tbody tr th:only-of-type {\n",
       "        vertical-align: middle;\n",
       "    }\n",
       "\n",
       "    .dataframe tbody tr th {\n",
       "        vertical-align: top;\n",
       "    }\n",
       "\n",
       "    .dataframe thead th {\n",
       "        text-align: right;\n",
       "    }\n",
       "</style>\n",
       "<table border=\"1\" class=\"dataframe\">\n",
       "  <thead>\n",
       "    <tr style=\"text-align: right;\">\n",
       "      <th></th>\n",
       "      <th>start_date</th>\n",
       "      <th>end_date</th>\n",
       "      <th>is_deleted</th>\n",
       "      <th>price</th>\n",
       "      <th>mean_x</th>\n",
       "      <th>median_x</th>\n",
       "      <th>max_x</th>\n",
       "      <th>min_x</th>\n",
       "      <th>mean_y</th>\n",
       "      <th>median_y</th>\n",
       "      <th>max_y</th>\n",
       "      <th>min_y</th>\n",
       "      <th>mean</th>\n",
       "      <th>median</th>\n",
       "      <th>max</th>\n",
       "      <th>min</th>\n",
       "      <th>routine_flg</th>\n",
       "      <th>calc_date</th>\n",
       "      <th>membership_period</th>\n",
       "    </tr>\n",
       "  </thead>\n",
       "  <tbody>\n",
       "    <tr>\n",
       "      <th>count</th>\n",
       "      <td>2842</td>\n",
       "      <td>0</td>\n",
       "      <td>2842.0</td>\n",
       "      <td>2842.000000</td>\n",
       "      <td>2842.000000</td>\n",
       "      <td>2842.000000</td>\n",
       "      <td>2842.000000</td>\n",
       "      <td>2842.000000</td>\n",
       "      <td>2842.000000</td>\n",
       "      <td>2842.000000</td>\n",
       "      <td>2842.000000</td>\n",
       "      <td>2842.000000</td>\n",
       "      <td>2842.000000</td>\n",
       "      <td>2842.000000</td>\n",
       "      <td>2842.000000</td>\n",
       "      <td>2842.000000</td>\n",
       "      <td>2842.000000</td>\n",
       "      <td>2842</td>\n",
       "      <td>2842.000000</td>\n",
       "    </tr>\n",
       "    <tr>\n",
       "      <th>mean</th>\n",
       "      <td>2017-04-03 22:42:28.627726848</td>\n",
       "      <td>NaT</td>\n",
       "      <td>0.0</td>\n",
       "      <td>8542.927516</td>\n",
       "      <td>6.030288</td>\n",
       "      <td>6.024279</td>\n",
       "      <td>8.471147</td>\n",
       "      <td>3.620690</td>\n",
       "      <td>6.030288</td>\n",
       "      <td>6.024279</td>\n",
       "      <td>8.471147</td>\n",
       "      <td>3.620690</td>\n",
       "      <td>6.030288</td>\n",
       "      <td>6.024279</td>\n",
       "      <td>8.471147</td>\n",
       "      <td>3.620690</td>\n",
       "      <td>0.984166</td>\n",
       "      <td>2019-04-30 00:00:00</td>\n",
       "      <td>23.970443</td>\n",
       "    </tr>\n",
       "    <tr>\n",
       "      <th>min</th>\n",
       "      <td>2015-05-01 00:00:00</td>\n",
       "      <td>NaT</td>\n",
       "      <td>0.0</td>\n",
       "      <td>6000.000000</td>\n",
       "      <td>3.166667</td>\n",
       "      <td>3.000000</td>\n",
       "      <td>5.000000</td>\n",
       "      <td>1.000000</td>\n",
       "      <td>3.166667</td>\n",
       "      <td>3.000000</td>\n",
       "      <td>5.000000</td>\n",
       "      <td>1.000000</td>\n",
       "      <td>3.166667</td>\n",
       "      <td>3.000000</td>\n",
       "      <td>5.000000</td>\n",
       "      <td>1.000000</td>\n",
       "      <td>0.000000</td>\n",
       "      <td>2019-04-30 00:00:00</td>\n",
       "      <td>1.000000</td>\n",
       "    </tr>\n",
       "    <tr>\n",
       "      <th>25%</th>\n",
       "      <td>2016-05-01 00:00:00</td>\n",
       "      <td>NaT</td>\n",
       "      <td>0.0</td>\n",
       "      <td>6000.000000</td>\n",
       "      <td>4.833333</td>\n",
       "      <td>5.000000</td>\n",
       "      <td>7.000000</td>\n",
       "      <td>2.000000</td>\n",
       "      <td>4.833333</td>\n",
       "      <td>5.000000</td>\n",
       "      <td>7.000000</td>\n",
       "      <td>2.000000</td>\n",
       "      <td>4.833333</td>\n",
       "      <td>5.000000</td>\n",
       "      <td>7.000000</td>\n",
       "      <td>2.000000</td>\n",
       "      <td>1.000000</td>\n",
       "      <td>2019-04-30 00:00:00</td>\n",
       "      <td>12.000000</td>\n",
       "    </tr>\n",
       "    <tr>\n",
       "      <th>50%</th>\n",
       "      <td>2017-04-01 00:00:00</td>\n",
       "      <td>NaT</td>\n",
       "      <td>0.0</td>\n",
       "      <td>7500.000000</td>\n",
       "      <td>5.583333</td>\n",
       "      <td>5.500000</td>\n",
       "      <td>8.000000</td>\n",
       "      <td>3.000000</td>\n",
       "      <td>5.583333</td>\n",
       "      <td>5.500000</td>\n",
       "      <td>8.000000</td>\n",
       "      <td>3.000000</td>\n",
       "      <td>5.583333</td>\n",
       "      <td>5.500000</td>\n",
       "      <td>8.000000</td>\n",
       "      <td>3.000000</td>\n",
       "      <td>1.000000</td>\n",
       "      <td>2019-04-30 00:00:00</td>\n",
       "      <td>24.000000</td>\n",
       "    </tr>\n",
       "    <tr>\n",
       "      <th>75%</th>\n",
       "      <td>2018-04-05 00:00:00</td>\n",
       "      <td>NaT</td>\n",
       "      <td>0.0</td>\n",
       "      <td>10500.000000</td>\n",
       "      <td>7.178030</td>\n",
       "      <td>7.000000</td>\n",
       "      <td>10.000000</td>\n",
       "      <td>5.000000</td>\n",
       "      <td>7.178030</td>\n",
       "      <td>7.000000</td>\n",
       "      <td>10.000000</td>\n",
       "      <td>5.000000</td>\n",
       "      <td>7.178030</td>\n",
       "      <td>7.000000</td>\n",
       "      <td>10.000000</td>\n",
       "      <td>5.000000</td>\n",
       "      <td>1.000000</td>\n",
       "      <td>2019-04-30 00:00:00</td>\n",
       "      <td>35.000000</td>\n",
       "    </tr>\n",
       "    <tr>\n",
       "      <th>max</th>\n",
       "      <td>2019-03-15 00:00:00</td>\n",
       "      <td>NaT</td>\n",
       "      <td>0.0</td>\n",
       "      <td>10500.000000</td>\n",
       "      <td>12.000000</td>\n",
       "      <td>12.000000</td>\n",
       "      <td>14.000000</td>\n",
       "      <td>12.000000</td>\n",
       "      <td>12.000000</td>\n",
       "      <td>12.000000</td>\n",
       "      <td>14.000000</td>\n",
       "      <td>12.000000</td>\n",
       "      <td>12.000000</td>\n",
       "      <td>12.000000</td>\n",
       "      <td>14.000000</td>\n",
       "      <td>12.000000</td>\n",
       "      <td>1.000000</td>\n",
       "      <td>2019-04-30 00:00:00</td>\n",
       "      <td>47.000000</td>\n",
       "    </tr>\n",
       "    <tr>\n",
       "      <th>std</th>\n",
       "      <td>NaN</td>\n",
       "      <td>NaN</td>\n",
       "      <td>0.0</td>\n",
       "      <td>1977.189779</td>\n",
       "      <td>1.553587</td>\n",
       "      <td>1.599765</td>\n",
       "      <td>1.571048</td>\n",
       "      <td>2.030488</td>\n",
       "      <td>1.553587</td>\n",
       "      <td>1.599765</td>\n",
       "      <td>1.571048</td>\n",
       "      <td>2.030488</td>\n",
       "      <td>1.553587</td>\n",
       "      <td>1.599765</td>\n",
       "      <td>1.571048</td>\n",
       "      <td>2.030488</td>\n",
       "      <td>0.124855</td>\n",
       "      <td>NaN</td>\n",
       "      <td>13.746761</td>\n",
       "    </tr>\n",
       "  </tbody>\n",
       "</table>\n",
       "</div>"
      ],
      "text/plain": [
       "                          start_date end_date  is_deleted         price  \\\n",
       "count                           2842        0      2842.0   2842.000000   \n",
       "mean   2017-04-03 22:42:28.627726848      NaT         0.0   8542.927516   \n",
       "min              2015-05-01 00:00:00      NaT         0.0   6000.000000   \n",
       "25%              2016-05-01 00:00:00      NaT         0.0   6000.000000   \n",
       "50%              2017-04-01 00:00:00      NaT         0.0   7500.000000   \n",
       "75%              2018-04-05 00:00:00      NaT         0.0  10500.000000   \n",
       "max              2019-03-15 00:00:00      NaT         0.0  10500.000000   \n",
       "std                              NaN      NaN         0.0   1977.189779   \n",
       "\n",
       "            mean_x     median_x        max_x        min_x       mean_y  \\\n",
       "count  2842.000000  2842.000000  2842.000000  2842.000000  2842.000000   \n",
       "mean      6.030288     6.024279     8.471147     3.620690     6.030288   \n",
       "min       3.166667     3.000000     5.000000     1.000000     3.166667   \n",
       "25%       4.833333     5.000000     7.000000     2.000000     4.833333   \n",
       "50%       5.583333     5.500000     8.000000     3.000000     5.583333   \n",
       "75%       7.178030     7.000000    10.000000     5.000000     7.178030   \n",
       "max      12.000000    12.000000    14.000000    12.000000    12.000000   \n",
       "std       1.553587     1.599765     1.571048     2.030488     1.553587   \n",
       "\n",
       "          median_y        max_y        min_y         mean       median  \\\n",
       "count  2842.000000  2842.000000  2842.000000  2842.000000  2842.000000   \n",
       "mean      6.024279     8.471147     3.620690     6.030288     6.024279   \n",
       "min       3.000000     5.000000     1.000000     3.166667     3.000000   \n",
       "25%       5.000000     7.000000     2.000000     4.833333     5.000000   \n",
       "50%       5.500000     8.000000     3.000000     5.583333     5.500000   \n",
       "75%       7.000000    10.000000     5.000000     7.178030     7.000000   \n",
       "max      12.000000    14.000000    12.000000    12.000000    12.000000   \n",
       "std       1.599765     1.571048     2.030488     1.553587     1.599765   \n",
       "\n",
       "               max          min  routine_flg            calc_date  \\\n",
       "count  2842.000000  2842.000000  2842.000000                 2842   \n",
       "mean      8.471147     3.620690     0.984166  2019-04-30 00:00:00   \n",
       "min       5.000000     1.000000     0.000000  2019-04-30 00:00:00   \n",
       "25%       7.000000     2.000000     1.000000  2019-04-30 00:00:00   \n",
       "50%       8.000000     3.000000     1.000000  2019-04-30 00:00:00   \n",
       "75%      10.000000     5.000000     1.000000  2019-04-30 00:00:00   \n",
       "max      14.000000    12.000000     1.000000  2019-04-30 00:00:00   \n",
       "std       1.571048     2.030488     0.124855                  NaN   \n",
       "\n",
       "       membership_period  \n",
       "count        2842.000000  \n",
       "mean           23.970443  \n",
       "min             1.000000  \n",
       "25%            12.000000  \n",
       "50%            24.000000  \n",
       "75%            35.000000  \n",
       "max            47.000000  \n",
       "std            13.746761  "
      ]
     },
     "execution_count": 37,
     "metadata": {},
     "output_type": "execute_result"
    }
   ],
   "source": [
    "customer_stay = customer_join.loc[customer_join[\"is_deleted\"] == 0] # 在籍ユーザーを抽出\n",
    "customer_stay.describe() # 在籍ユーザーの統計量を確認"
   ]
  },
  {
   "cell_type": "code",
   "execution_count": 39,
   "id": "9603091c",
   "metadata": {},
   "outputs": [],
   "source": [
    "customer_join.to_csv(\"customer_join.csv\", index = False) # 結合したデータをCSVファイルに出力"
   ]
  }
 ],
 "metadata": {
  "kernelspec": {
   "display_name": "Ai_python",
   "language": "python",
   "name": "python3"
  },
  "language_info": {
   "codemirror_mode": {
    "name": "ipython",
    "version": 3
   },
   "file_extension": ".py",
   "mimetype": "text/x-python",
   "name": "python",
   "nbconvert_exporter": "python",
   "pygments_lexer": "ipython3",
   "version": "3.12.9"
  }
 },
 "nbformat": 4,
 "nbformat_minor": 5
}
